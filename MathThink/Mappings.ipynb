{
 "cells": [
  {
   "cell_type": "code",
   "execution_count": null,
   "metadata": {},
   "outputs": [],
   "source": []
  },
  {
   "cell_type": "markdown",
   "metadata": {},
   "source": [
    "<h4> three mapping operators </h4>\n",
    "<ul> \n",
    "    <li>domain restrinction   </li>\n",
    "    <li> overriding  </li>\n",
    "    <li> composition  </li>\n",
    "</ul>    "
   ]
  },
  {
   "cell_type": "markdown",
   "metadata": {},
   "source": [
    "<h4> Dictionaries </h4>"
   ]
  },
  {
   "cell_type": "markdown",
   "metadata": {},
   "source": [
    "dictionary comprehensions"
   ]
  },
  {
   "cell_type": "code",
   "execution_count": 1,
   "metadata": {},
   "outputs": [
    {
     "name": "stdout",
     "output_type": "stream",
     "text": [
      "associates an integer with its factorial\n"
     ]
    }
   ],
   "source": [
    "from math import factorial\n",
    "{n: factorial(n) for n in range(50)}\n",
    "print(\"associates an integer with its factorial\")"
   ]
  },
  {
   "cell_type": "code",
   "execution_count": 4,
   "metadata": {},
   "outputs": [],
   "source": [
    "d={1: 'small', 2: \"middle\", 3:\"large\", 4:\"XL\"}"
   ]
  },
  {
   "cell_type": "code",
   "execution_count": 12,
   "metadata": {},
   "outputs": [
    {
     "name": "stdout",
     "output_type": "stream",
     "text": [
      "1\n",
      "2\n",
      "3\n",
      "4\n",
      "small\n",
      "middle\n",
      "large\n",
      "XL\n",
      "also see d.keys()\n"
     ]
    }
   ],
   "source": [
    "for i in iter(d):\n",
    "    print(i)\n",
    "for i  in d.values():\n",
    "    print(i)\n",
    "print (\"also see d.keys()\")"
   ]
  },
  {
   "cell_type": "code",
   "execution_count": 18,
   "metadata": {},
   "outputs": [
    {
     "name": "stdout",
     "output_type": "stream",
     "text": [
      "{1: 'tiny', 2: 'middle', 3: 'large', 4: 'XL'}\n",
      "update as an example of overriding\n"
     ]
    },
    {
     "data": {
      "text/plain": [
       "{1: 'tiny', 2: 'middle', 3: 'large', 4: 'XL'}"
      ]
     },
     "execution_count": 18,
     "metadata": {},
     "output_type": "execute_result"
    }
   ],
   "source": [
    "e={1:\"tiny\",3:\"large\"}\n",
    "print(d)\n",
    "print(\"update as an example of overriding\")\n",
    "(d.update(e))\n",
    "d"
   ]
  },
  {
   "cell_type": "code",
   "execution_count": null,
   "metadata": {},
   "outputs": [],
   "source": []
  },
  {
   "cell_type": "markdown",
   "metadata": {},
   "source": [
    "using stream of tuples to construc a dictionary\n"
   ]
  },
  {
   "cell_type": "code",
   "execution_count": 2,
   "metadata": {},
   "outputs": [],
   "source": [
    "def streamOfTuples(fileName):\n",
    "    return (   line.strip().split(\",\")  for line in open(fileName))\n",
    "#strip() with no arguments (or None as the first argument) removes all whitespace at the start and end, including spaces, tabs, newlines and carriage returns. Leav\n"
   ]
  },
  {
   "cell_type": "code",
   "execution_count": 3,
   "metadata": {},
   "outputs": [],
   "source": [
    "filename=\"emails.txt\"\n",
    "address = { name: email for (name,email) in streamOfTuples(filename)}"
   ]
  },
  {
   "cell_type": "code",
   "execution_count": 4,
   "metadata": {},
   "outputs": [
    {
     "data": {
      "text/plain": [
       "{'george': ' george@washington.com',\n",
       " 'alex ': ' hamilton@economy.com',\n",
       " 'henderson': ' henders@mall.edu'}"
      ]
     },
     "execution_count": 4,
     "metadata": {},
     "output_type": "execute_result"
    }
   ],
   "source": [
    "address"
   ]
  },
  {
   "cell_type": "code",
   "execution_count": null,
   "metadata": {},
   "outputs": [],
   "source": []
  },
  {
   "cell_type": "code",
   "execution_count": null,
   "metadata": {},
   "outputs": [],
   "source": []
  },
  {
   "cell_type": "markdown",
   "metadata": {},
   "source": [
    "<h4> Multisets a.k.a. \"bags\" </h4>"
   ]
  },
  {
   "cell_type": "markdown",
   "metadata": {},
   "source": [
    "examples are factors of a number or roots of algebraic equations.\n",
    "an inventory is a multisets (items available is a set)\n",
    "Multiset can be seen as a mapping of the elements to de count of each"
   ]
  },
  {
   "cell_type": "code",
   "execution_count": 50,
   "metadata": {},
   "outputs": [],
   "source": [
    "multis= [2,2,2,3,3,5]\n",
    "def mapMultiset(lst):\n",
    "    mapped={}\n",
    "    for itm in lst:\n",
    "        if itm in mapped:\n",
    "            mapped[itm] += 1\n",
    "        else:\n",
    "            mapped[itm]=1\n",
    "    return mapped"
   ]
  },
  {
   "cell_type": "code",
   "execution_count": 51,
   "metadata": {},
   "outputs": [
    {
     "name": "stdout",
     "output_type": "stream",
     "text": [
      "{2: 3, 3: 2, 5: 1}\n"
     ]
    }
   ],
   "source": [
    "mapped = mapMultiset(multis)\n",
    "print(mapped)"
   ]
  },
  {
   "cell_type": "markdown",
   "metadata": {},
   "source": [
    "#### "
   ]
  },
  {
   "cell_type": "code",
   "execution_count": null,
   "metadata": {},
   "outputs": [],
   "source": []
  },
  {
   "cell_type": "code",
   "execution_count": null,
   "metadata": {},
   "outputs": [],
   "source": []
  },
  {
   "cell_type": "code",
   "execution_count": null,
   "metadata": {},
   "outputs": [],
   "source": []
  },
  {
   "cell_type": "code",
   "execution_count": null,
   "metadata": {},
   "outputs": [],
   "source": []
  },
  {
   "cell_type": "code",
   "execution_count": null,
   "metadata": {},
   "outputs": [],
   "source": []
  },
  {
   "cell_type": "code",
   "execution_count": null,
   "metadata": {},
   "outputs": [],
   "source": []
  },
  {
   "cell_type": "code",
   "execution_count": null,
   "metadata": {},
   "outputs": [],
   "source": []
  }
 ],
 "metadata": {
  "kernelspec": {
   "display_name": "Python 3",
   "language": "python",
   "name": "python3"
  },
  "language_info": {
   "codemirror_mode": {
    "name": "ipython",
    "version": 3
   },
   "file_extension": ".py",
   "mimetype": "text/x-python",
   "name": "python",
   "nbconvert_exporter": "python",
   "pygments_lexer": "ipython3",
   "version": "3.6.5"
  }
 },
 "nbformat": 4,
 "nbformat_minor": 2
}
