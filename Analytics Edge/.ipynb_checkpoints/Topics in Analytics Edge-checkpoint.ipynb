{
 "cells": [
  {
   "cell_type": "markdown",
   "metadata": {},
   "source": [
    "# Topics in Analytics: a sqlite implementation #"
   ]
  },
  {
   "cell_type": "code",
   "execution_count": 1,
   "metadata": {},
   "outputs": [],
   "source": [
    "import sqlite3 as db"
   ]
  },
  {
   "cell_type": "code",
   "execution_count": 2,
   "metadata": {},
   "outputs": [],
   "source": [
    "conn = db.connect(\"analytics.db\")"
   ]
  },
  {
   "cell_type": "code",
   "execution_count": 3,
   "metadata": {},
   "outputs": [],
   "source": [
    "c = conn.cursor()"
   ]
  },
  {
   "cell_type": "markdown",
   "metadata": {},
   "source": [
    "<h4>the Topic Table</h4>"
   ]
  },
  {
   "cell_type": "code",
   "execution_count": 4,
   "metadata": {},
   "outputs": [
    {
     "data": {
      "text/plain": [
       "<sqlite3.Cursor at 0x7fb728520180>"
      ]
     },
     "execution_count": 4,
     "metadata": {},
     "output_type": "execute_result"
    }
   ],
   "source": [
    "c.execute(\"DROP TABLE IF EXISTS Topics\")\n",
    "c.execute( \"CREATE TABLE Topics(id INTEGER PRIMARY KEY AUTOINCREMENT, name TEXT)\")"
   ]
  },
  {
   "cell_type": "markdown",
   "metadata": {},
   "source": [
    "function for inserting values from list"
   ]
  },
  {
   "cell_type": "code",
   "execution_count": 5,
   "metadata": {},
   "outputs": [],
   "source": [
    "def insertTopic(L):\n",
    "    for itm in L:\n",
    "  #      print(itm)\n",
    "       c.execute(\"INSERT INTO Topics(name) VALUES(?)\",(itm,))\n",
    "    "
   ]
  },
  {
   "cell_type": "code",
   "execution_count": null,
   "metadata": {},
   "outputs": [],
   "source": []
  },
  {
   "cell_type": "code",
   "execution_count": 6,
   "metadata": {},
   "outputs": [],
   "source": [
    "conn.commit()"
   ]
  },
  {
   "cell_type": "code",
   "execution_count": null,
   "metadata": {},
   "outputs": [],
   "source": []
  },
  {
   "cell_type": "code",
   "execution_count": 7,
   "metadata": {},
   "outputs": [],
   "source": [
    "Topics=['General','Linear Regression', 'Logistic Regression', 'Trees', 'Text Analytics',\n",
    "  'Clustering', 'Visualization', 'Linear Optimization', 'Integer Optimization']\n",
    "\n",
    "insertTopic(Topics)"
   ]
  },
  {
   "cell_type": "markdown",
   "metadata": {},
   "source": [
    "<h5> quering the Topic table </h5>"
   ]
  },
  {
   "cell_type": "code",
   "execution_count": 8,
   "metadata": {},
   "outputs": [
    {
     "name": "stdout",
     "output_type": "stream",
     "text": [
      "[(1, 'General'), (2, 'Linear Regression'), (3, 'Logistic Regression'), (4, 'Trees'), (5, 'Text Analytics'), (6, 'Clustering'), (7, 'Visualization'), (8, 'Linear Optimization'), (9, 'Integer Optimization')]\n"
     ]
    }
   ],
   "source": [
    "c.execute('''SELECT * FROM Topics''')\n",
    "print(c.fetchall())"
   ]
  },
  {
   "cell_type": "markdown",
   "metadata": {},
   "source": [
    "<h4> the <b>cases < /b>  table </h4>"
   ]
  },
  {
   "cell_type": "code",
   "execution_count": 9,
   "metadata": {},
   "outputs": [
    {
     "data": {
      "text/plain": [
       "<sqlite3.Cursor at 0x7fb728520180>"
      ]
     },
     "execution_count": 9,
     "metadata": {},
     "output_type": "execute_result"
    }
   ],
   "source": [
    "c.execute(\"CREATE TABLE cases(id INTEGER PRIMARY KEY AUTOINCREMENT, name TEXT, link TEXT DEFAULT'')\")"
   ]
  },
  {
   "cell_type": "code",
   "execution_count": null,
   "metadata": {},
   "outputs": [],
   "source": []
  },
  {
   "cell_type": "code",
   "execution_count": 10,
   "metadata": {},
   "outputs": [
    {
     "data": {
      "text/plain": [
       "<sqlite3.Cursor at 0x7fb728520180>"
      ]
     },
     "execution_count": 10,
     "metadata": {},
     "output_type": "execute_result"
    }
   ],
   "source": [
    "c.execute(\"INSERT INTO cases(name) VALUES('Quality of Wine')\")\n",
    "c.execute(\"INSERT INTO cases(name) VALUES('Moneyball')\")\n",
    "c.execute(\"INSERT INTO cases(name) VALUES('USDA')\")\n",
    "c.execute(\"INSERT INTO cases(name) VALUES('Modeling an Expert')\")\n",
    "c.execute(\"INSERT INTO cases(name) VALUES('The Framingham Heart Study')\")\n",
    "c.execute(\"INSERT INTO cases(name) VALUES('Supreme Court Decisions')\")\n",
    "c.execute(\"INSERT INTO cases(name) VALUES('D2Hawkeye')\")\n",
    "c.execute(\"INSERT INTO cases(name) VALUES('Tweets')\")\n",
    "c.execute(\"INSERT INTO cases(name) VALUES('IBM Watson')\")\n",
    "c.execute(\"INSERT INTO cases(name) VALUES('Recommendation Systems')\")\n",
    "c.execute(\"INSERT INTO cases(name) VALUES('Predictive Diagnosis')\")\n",
    "c.execute(\"INSERT INTO cases(name) VALUES('Visualizing the World')\")\n",
    "c.execute(\"INSERT INTO cases(name) VALUES(' Analytical Policeman')\")\n"
   ]
  },
  {
   "cell_type": "code",
   "execution_count": null,
   "metadata": {},
   "outputs": [],
   "source": []
  },
  {
   "cell_type": "code",
   "execution_count": 11,
   "metadata": {},
   "outputs": [
    {
     "name": "stdout",
     "output_type": "stream",
     "text": [
      "[(1, 'Quality of Wine', ''), (2, 'Moneyball', ''), (3, 'USDA', ''), (4, 'Modeling an Expert', ''), (5, 'The Framingham Heart Study', ''), (6, 'Supreme Court Decisions', ''), (7, 'D2Hawkeye', ''), (8, 'Tweets', ''), (9, 'IBM Watson', ''), (10, 'Recommendation Systems', ''), (11, 'Predictive Diagnosis', ''), (12, 'Visualizing the World', ''), (13, ' Analytical Policeman', '')]\n"
     ]
    }
   ],
   "source": [
    "c.execute('''SELECT * from cases''')\n",
    "print(c.fetchall())"
   ]
  },
  {
   "cell_type": "markdown",
   "metadata": {},
   "source": [
    "#  <h4> the casesTopics table</h4>"
   ]
  },
  {
   "cell_type": "code",
   "execution_count": 12,
   "metadata": {},
   "outputs": [
    {
     "data": {
      "text/plain": [
       "<sqlite3.Cursor at 0x7fb728520180>"
      ]
     },
     "execution_count": 12,
     "metadata": {},
     "output_type": "execute_result"
    }
   ],
   "source": [
    "c.execute(\"CREATE TABLE caseTopics( topicKey INTEGER, caseKey INTEGER)\")"
   ]
  },
  {
   "cell_type": "code",
   "execution_count": 13,
   "metadata": {},
   "outputs": [
    {
     "data": {
      "text/plain": [
       "<sqlite3.Cursor at 0x7fb728520180>"
      ]
     },
     "execution_count": 13,
     "metadata": {},
     "output_type": "execute_result"
    }
   ],
   "source": [
    "c.execute(\"INSERT INTO caseTopics (topicKey,caseKey) VALUES((SELECT id FROM Topics where name\\\n",
    "= 'Linear Regression'), 1)\")\n",
    "c.execute(\"INSERT INTO caseTopics (topicKey,caseKey) VALUES((SELECT id FROM Topics where name\\\n",
    "= 'Linear Regression'), 2)\")"
   ]
  },
  {
   "cell_type": "code",
   "execution_count": 23,
   "metadata": {},
   "outputs": [
    {
     "data": {
      "text/plain": [
       "<sqlite3.Cursor at 0x7fb728520180>"
      ]
     },
     "execution_count": 23,
     "metadata": {},
     "output_type": "execute_result"
    }
   ],
   "source": [
    "c.execute(\"INSERT INTO caseTopics (topicKey,caseKey) VALUES((SELECT id FROM Topics where name\\\n",
    "= 'General'), 3)\")\n",
    "c.execute(\"INSERT INTO caseTopics (topicKey,caseKey) VALUES((SELECT id FROM Topics where name\\\n",
    "= 'Logistic Regression'), 4)\")\n",
    "c.execute(\"INSERT INTO caseTopics (topicKey,caseKey) VALUES((SELECT id FROM Topics where name\\\n",
    "= 'Logistic Regression'), 5)\")\n",
    "c.execute(\"INSERT INTO caseTopics (topicKey,caseKey) VALUES((SELECT id FROM Topics where name\\\n",
    "= 'Trees'), 6)\")\n",
    "c.execute(\"INSERT INTO caseTopics (topicKey,caseKey) VALUES((SELECT id FROM Topics where name\\\n",
    "= 'Trees'), 7)\")\n",
    "c.execute(\"INSERT INTO caseTopics (topicKey,caseKey) VALUES((SELECT id FROM Topics where name\\\n",
    "= 'Text Analytics'), 8)\")"
   ]
  },
  {
   "cell_type": "code",
   "execution_count": 24,
   "metadata": {},
   "outputs": [
    {
     "data": {
      "text/plain": [
       "<sqlite3.Cursor at 0x7fb728520180>"
      ]
     },
     "execution_count": 24,
     "metadata": {},
     "output_type": "execute_result"
    }
   ],
   "source": [
    "c.execute(\"INSERT INTO caseTopics (topicKey,caseKey) VALUES((SELECT id FROM Topics where name\\\n",
    "= 'Text Analytics'), (SELECT id FROM cases WHERE name = 'IBM Watson'))\")"
   ]
  },
  {
   "cell_type": "code",
   "execution_count": 16,
   "metadata": {},
   "outputs": [
    {
     "data": {
      "text/plain": [
       "<sqlite3.Cursor at 0x7fb728520180>"
      ]
     },
     "execution_count": 16,
     "metadata": {},
     "output_type": "execute_result"
    }
   ],
   "source": [
    "c.execute(\"INSERT INTO caseTopics (topicKey,caseKey) VALUES((SELECT id FROM Topics where name\\\n",
    "= 'Clustering'), (SELECT id FROM cases WHERE name = 'Recommendation Systems'))\")"
   ]
  },
  {
   "cell_type": "code",
   "execution_count": 17,
   "metadata": {},
   "outputs": [
    {
     "data": {
      "text/plain": [
       "<sqlite3.Cursor at 0x7fb728520180>"
      ]
     },
     "execution_count": 17,
     "metadata": {},
     "output_type": "execute_result"
    }
   ],
   "source": [
    "c.execute(\"INSERT INTO caseTopics (topicKey,caseKey) VALUES((SELECT id FROM Topics where name\\\n",
    "= 'Visualization'), (SELECT id FROM cases WHERE name = 'Visualizing the World'))\")\n",
    "c.execute(\"INSERT INTO caseTopics (topicKey,caseKey) VALUES((SELECT id FROM Topics where name\\\n",
    "= 'Visualization'), (SELECT id FROM cases WHERE name = ' Analytical Policeman'))\")\n",
    "c.execute(\"INSERT INTO caseTopics (topicKey,caseKey) VALUES((SELECT id FROM Topics where name\\\n",
    "= 'Integer Optimization'), (SELECT id FROM cases WHERE name = 'Predictive Diagnosis'))\")\n"
   ]
  },
  {
   "cell_type": "code",
   "execution_count": null,
   "metadata": {},
   "outputs": [],
   "source": []
  },
  {
   "cell_type": "code",
   "execution_count": null,
   "metadata": {},
   "outputs": [],
   "source": []
  },
  {
   "cell_type": "markdown",
   "metadata": {},
   "source": [
    "<h4> other queries </h4>"
   ]
  },
  {
   "cell_type": "code",
   "execution_count": null,
   "metadata": {},
   "outputs": [],
   "source": []
  },
  {
   "cell_type": "code",
   "execution_count": 18,
   "metadata": {},
   "outputs": [
    {
     "name": "stdout",
     "output_type": "stream",
     "text": [
      "[(2, 2), (3, 3), (3, 4), (4, 5), (4, 6), (5, 7), (5, 8), (6, 9), (6, 10), (7, 12), (7, 13), (9, 11)]\n"
     ]
    }
   ],
   "source": [
    "c.execute(\"SELECT * FROM caseTopics\")\n",
    "print(c.fetchall())"
   ]
  },
  {
   "cell_type": "code",
   "execution_count": null,
   "metadata": {},
   "outputs": [],
   "source": []
  },
  {
   "cell_type": "code",
   "execution_count": 25,
   "metadata": {},
   "outputs": [
    {
     "name": "stdout",
     "output_type": "stream",
     "text": [
      "[('Moneyball',), ('USDA',), ('Modeling an Expert',), ('The Framingham Heart Study',), ('Supreme Court Decisions',), ('D2Hawkeye',), ('Tweets',), ('IBM Watson',), ('Recommendation Systems',), ('Visualizing the World',), (' Analytical Policeman',), ('Predictive Diagnosis',), ('USDA',), ('Modeling an Expert',), ('The Framingham Heart Study',), ('Supreme Court Decisions',), ('D2Hawkeye',), ('Tweets',), ('IBM Watson',)]\n"
     ]
    }
   ],
   "source": [
    "c.execute('''SELECT cases.name FROM cases join caseTopics on cases.id = caseKey ''')\n",
    "print(c.fetchall())"
   ]
  },
  {
   "cell_type": "code",
   "execution_count": 20,
   "metadata": {},
   "outputs": [
    {
     "name": "stdout",
     "output_type": "stream",
     "text": [
      "[('The Framingham Heart Study',), ('Supreme Court Decisions',)]\n"
     ]
    }
   ],
   "source": [
    "c.execute('''SELECT cases.name FROM cases join caseTopics on cases.id = caseKey WHERE \\\n",
    "topicKey = 4''')\n",
    "print(c.fetchall())"
   ]
  },
  {
   "cell_type": "code",
   "execution_count": null,
   "metadata": {},
   "outputs": [],
   "source": []
  },
  {
   "cell_type": "code",
   "execution_count": 21,
   "metadata": {},
   "outputs": [
    {
     "name": "stdout",
     "output_type": "stream",
     "text": [
      "[('The Framingham Heart Study',), ('Supreme Court Decisions',)]\n"
     ]
    }
   ],
   "source": [
    "c.execute('''SELECT cases.name FROM cases join caseTopics on cases.id = caseKey WHERE \\\n",
    "topicKey = (SELECT id FROM Topics WHERE name = \"Trees\")''')\n",
    "print(c.fetchall())"
   ]
  },
  {
   "cell_type": "code",
   "execution_count": null,
   "metadata": {},
   "outputs": [],
   "source": []
  },
  {
   "cell_type": "code",
   "execution_count": 26,
   "metadata": {},
   "outputs": [
    {
     "name": "stdout",
     "output_type": "stream",
     "text": [
      "[('Moneyball', 'Linear Regression'), ('USDA', 'Logistic Regression'), ('Modeling an Expert', 'Logistic Regression'), ('The Framingham Heart Study', 'Trees'), ('Supreme Court Decisions', 'Trees'), ('D2Hawkeye', 'Text Analytics'), ('Tweets', 'Text Analytics'), ('IBM Watson', 'Clustering'), ('Recommendation Systems', 'Clustering'), ('Visualizing the World', 'Visualization'), (' Analytical Policeman', 'Visualization'), ('Predictive Diagnosis', 'Integer Optimization'), ('USDA', 'General'), ('Modeling an Expert', 'Logistic Regression'), ('The Framingham Heart Study', 'Logistic Regression'), ('Supreme Court Decisions', 'Trees'), ('D2Hawkeye', 'Text Analytics'), ('Tweets', 'Text Analytics'), ('IBM Watson', 'Text Analytics')]\n"
     ]
    }
   ],
   "source": [
    "c.execute('''SELECT cases.name, Topics.name FROM \\\n",
    "cases JOIN caseTopics ON cases.id = caseKey \\\n",
    "JOIN Topics on Topics.id = topicKey''')\n",
    "\n",
    "print(c.fetchall())"
   ]
  },
  {
   "cell_type": "code",
   "execution_count": null,
   "metadata": {},
   "outputs": [],
   "source": []
  },
  {
   "cell_type": "code",
   "execution_count": null,
   "metadata": {},
   "outputs": [],
   "source": []
  },
  {
   "cell_type": "code",
   "execution_count": null,
   "metadata": {},
   "outputs": [],
   "source": []
  },
  {
   "cell_type": "code",
   "execution_count": null,
   "metadata": {},
   "outputs": [],
   "source": []
  },
  {
   "cell_type": "code",
   "execution_count": null,
   "metadata": {},
   "outputs": [],
   "source": []
  },
  {
   "cell_type": "code",
   "execution_count": null,
   "metadata": {},
   "outputs": [],
   "source": []
  },
  {
   "cell_type": "code",
   "execution_count": null,
   "metadata": {},
   "outputs": [],
   "source": []
  }
 ],
 "metadata": {
  "kernelspec": {
   "display_name": "Python 3",
   "language": "python",
   "name": "python3"
  },
  "language_info": {
   "codemirror_mode": {
    "name": "ipython",
    "version": 3
   },
   "file_extension": ".py",
   "mimetype": "text/x-python",
   "name": "python",
   "nbconvert_exporter": "python",
   "pygments_lexer": "ipython3",
   "version": "3.6.5"
  }
 },
 "nbformat": 4,
 "nbformat_minor": 2
}
