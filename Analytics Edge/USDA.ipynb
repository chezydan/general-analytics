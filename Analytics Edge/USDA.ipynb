{
 "cells": [
  {
   "cell_type": "code",
   "execution_count": null,
   "metadata": {},
   "outputs": [],
   "source": []
  },
  {
   "cell_type": "code",
   "execution_count": 1,
   "metadata": {},
   "outputs": [],
   "source": [
    "import pandas as pd\n",
    "import numpy as np\n",
    "import matplotlib.pyplot as plt"
   ]
  },
  {
   "cell_type": "code",
   "execution_count": 2,
   "metadata": {},
   "outputs": [
    {
     "name": "stdout",
     "output_type": "stream",
     "text": [
      "/home/dan/Documents/GeneralAnalytics/Analytics Edge\n",
      " analytics.db\t       'Topics in Analytics Edge.ipynb'   Unit2   Unit4\n",
      " analytics.db-journal   Unit1\t\t\t\t  Unit3   USDA.ipynb\n"
     ]
    }
   ],
   "source": [
    "!pwd\n",
    "!ls"
   ]
  },
  {
   "cell_type": "code",
   "execution_count": 5,
   "metadata": {},
   "outputs": [],
   "source": [
    "usda=pd.read_csv(\"Unit1/USDA.csv\")"
   ]
  },
  {
   "cell_type": "code",
   "execution_count": 6,
   "metadata": {},
   "outputs": [
    {
     "data": {
      "text/html": [
       "<div>\n",
       "<style scoped>\n",
       "    .dataframe tbody tr th:only-of-type {\n",
       "        vertical-align: middle;\n",
       "    }\n",
       "\n",
       "    .dataframe tbody tr th {\n",
       "        vertical-align: top;\n",
       "    }\n",
       "\n",
       "    .dataframe thead th {\n",
       "        text-align: right;\n",
       "    }\n",
       "</style>\n",
       "<table border=\"1\" class=\"dataframe\">\n",
       "  <thead>\n",
       "    <tr style=\"text-align: right;\">\n",
       "      <th></th>\n",
       "      <th>ID</th>\n",
       "      <th>Calories</th>\n",
       "      <th>Protein</th>\n",
       "      <th>TotalFat</th>\n",
       "      <th>Carbohydrate</th>\n",
       "      <th>Sodium</th>\n",
       "      <th>SaturatedFat</th>\n",
       "      <th>Cholesterol</th>\n",
       "      <th>Sugar</th>\n",
       "      <th>Calcium</th>\n",
       "      <th>Iron</th>\n",
       "      <th>Potassium</th>\n",
       "      <th>VitaminC</th>\n",
       "      <th>VitaminE</th>\n",
       "      <th>VitaminD</th>\n",
       "    </tr>\n",
       "  </thead>\n",
       "  <tbody>\n",
       "    <tr>\n",
       "      <th>count</th>\n",
       "      <td>7058.000000</td>\n",
       "      <td>7057.000000</td>\n",
       "      <td>7057.000000</td>\n",
       "      <td>7057.000000</td>\n",
       "      <td>7057.000000</td>\n",
       "      <td>6974.000000</td>\n",
       "      <td>6757.000000</td>\n",
       "      <td>6770.000000</td>\n",
       "      <td>5148.000000</td>\n",
       "      <td>6922.000000</td>\n",
       "      <td>6935.000000</td>\n",
       "      <td>6649.000000</td>\n",
       "      <td>6726.000000</td>\n",
       "      <td>4338.000000</td>\n",
       "      <td>4224.000000</td>\n",
       "    </tr>\n",
       "    <tr>\n",
       "      <th>mean</th>\n",
       "      <td>14259.821196</td>\n",
       "      <td>219.695338</td>\n",
       "      <td>11.710368</td>\n",
       "      <td>10.320614</td>\n",
       "      <td>20.697860</td>\n",
       "      <td>322.059220</td>\n",
       "      <td>3.452267</td>\n",
       "      <td>41.551994</td>\n",
       "      <td>8.256540</td>\n",
       "      <td>73.530627</td>\n",
       "      <td>2.828368</td>\n",
       "      <td>301.357949</td>\n",
       "      <td>9.435980</td>\n",
       "      <td>1.487462</td>\n",
       "      <td>0.576918</td>\n",
       "    </tr>\n",
       "    <tr>\n",
       "      <th>std</th>\n",
       "      <td>8577.179705</td>\n",
       "      <td>172.198755</td>\n",
       "      <td>10.919356</td>\n",
       "      <td>16.814191</td>\n",
       "      <td>27.630443</td>\n",
       "      <td>1045.416931</td>\n",
       "      <td>6.921267</td>\n",
       "      <td>122.963028</td>\n",
       "      <td>15.361509</td>\n",
       "      <td>222.445338</td>\n",
       "      <td>6.019878</td>\n",
       "      <td>415.638949</td>\n",
       "      <td>71.256536</td>\n",
       "      <td>5.386914</td>\n",
       "      <td>4.301147</td>\n",
       "    </tr>\n",
       "    <tr>\n",
       "      <th>min</th>\n",
       "      <td>1001.000000</td>\n",
       "      <td>0.000000</td>\n",
       "      <td>0.000000</td>\n",
       "      <td>0.000000</td>\n",
       "      <td>0.000000</td>\n",
       "      <td>0.000000</td>\n",
       "      <td>0.000000</td>\n",
       "      <td>0.000000</td>\n",
       "      <td>0.000000</td>\n",
       "      <td>0.000000</td>\n",
       "      <td>0.000000</td>\n",
       "      <td>0.000000</td>\n",
       "      <td>0.000000</td>\n",
       "      <td>0.000000</td>\n",
       "      <td>0.000000</td>\n",
       "    </tr>\n",
       "    <tr>\n",
       "      <th>25%</th>\n",
       "      <td>8387.250000</td>\n",
       "      <td>85.000000</td>\n",
       "      <td>2.290000</td>\n",
       "      <td>0.720000</td>\n",
       "      <td>0.000000</td>\n",
       "      <td>37.000000</td>\n",
       "      <td>0.172000</td>\n",
       "      <td>0.000000</td>\n",
       "      <td>0.000000</td>\n",
       "      <td>9.000000</td>\n",
       "      <td>0.520000</td>\n",
       "      <td>135.000000</td>\n",
       "      <td>0.000000</td>\n",
       "      <td>0.120000</td>\n",
       "      <td>0.000000</td>\n",
       "    </tr>\n",
       "    <tr>\n",
       "      <th>50%</th>\n",
       "      <td>13293.500000</td>\n",
       "      <td>181.000000</td>\n",
       "      <td>8.200000</td>\n",
       "      <td>4.370000</td>\n",
       "      <td>7.130000</td>\n",
       "      <td>79.000000</td>\n",
       "      <td>1.256000</td>\n",
       "      <td>3.000000</td>\n",
       "      <td>1.395000</td>\n",
       "      <td>19.000000</td>\n",
       "      <td>1.330000</td>\n",
       "      <td>250.000000</td>\n",
       "      <td>0.000000</td>\n",
       "      <td>0.270000</td>\n",
       "      <td>0.000000</td>\n",
       "    </tr>\n",
       "    <tr>\n",
       "      <th>75%</th>\n",
       "      <td>18336.750000</td>\n",
       "      <td>331.000000</td>\n",
       "      <td>20.430000</td>\n",
       "      <td>12.700000</td>\n",
       "      <td>28.170000</td>\n",
       "      <td>386.000000</td>\n",
       "      <td>4.028000</td>\n",
       "      <td>69.000000</td>\n",
       "      <td>7.875000</td>\n",
       "      <td>56.000000</td>\n",
       "      <td>2.620000</td>\n",
       "      <td>348.000000</td>\n",
       "      <td>3.100000</td>\n",
       "      <td>0.710000</td>\n",
       "      <td>0.100000</td>\n",
       "    </tr>\n",
       "    <tr>\n",
       "      <th>max</th>\n",
       "      <td>93600.000000</td>\n",
       "      <td>902.000000</td>\n",
       "      <td>88.320000</td>\n",
       "      <td>100.000000</td>\n",
       "      <td>100.000000</td>\n",
       "      <td>38758.000000</td>\n",
       "      <td>95.600000</td>\n",
       "      <td>3100.000000</td>\n",
       "      <td>99.800000</td>\n",
       "      <td>7364.000000</td>\n",
       "      <td>123.600000</td>\n",
       "      <td>16500.000000</td>\n",
       "      <td>2400.000000</td>\n",
       "      <td>149.400000</td>\n",
       "      <td>250.000000</td>\n",
       "    </tr>\n",
       "  </tbody>\n",
       "</table>\n",
       "</div>"
      ],
      "text/plain": [
       "                 ID     Calories      Protein     TotalFat  Carbohydrate  \\\n",
       "count   7058.000000  7057.000000  7057.000000  7057.000000   7057.000000   \n",
       "mean   14259.821196   219.695338    11.710368    10.320614     20.697860   \n",
       "std     8577.179705   172.198755    10.919356    16.814191     27.630443   \n",
       "min     1001.000000     0.000000     0.000000     0.000000      0.000000   \n",
       "25%     8387.250000    85.000000     2.290000     0.720000      0.000000   \n",
       "50%    13293.500000   181.000000     8.200000     4.370000      7.130000   \n",
       "75%    18336.750000   331.000000    20.430000    12.700000     28.170000   \n",
       "max    93600.000000   902.000000    88.320000   100.000000    100.000000   \n",
       "\n",
       "             Sodium  SaturatedFat  Cholesterol        Sugar      Calcium  \\\n",
       "count   6974.000000   6757.000000  6770.000000  5148.000000  6922.000000   \n",
       "mean     322.059220      3.452267    41.551994     8.256540    73.530627   \n",
       "std     1045.416931      6.921267   122.963028    15.361509   222.445338   \n",
       "min        0.000000      0.000000     0.000000     0.000000     0.000000   \n",
       "25%       37.000000      0.172000     0.000000     0.000000     9.000000   \n",
       "50%       79.000000      1.256000     3.000000     1.395000    19.000000   \n",
       "75%      386.000000      4.028000    69.000000     7.875000    56.000000   \n",
       "max    38758.000000     95.600000  3100.000000    99.800000  7364.000000   \n",
       "\n",
       "              Iron     Potassium     VitaminC     VitaminE     VitaminD  \n",
       "count  6935.000000   6649.000000  6726.000000  4338.000000  4224.000000  \n",
       "mean      2.828368    301.357949     9.435980     1.487462     0.576918  \n",
       "std       6.019878    415.638949    71.256536     5.386914     4.301147  \n",
       "min       0.000000      0.000000     0.000000     0.000000     0.000000  \n",
       "25%       0.520000    135.000000     0.000000     0.120000     0.000000  \n",
       "50%       1.330000    250.000000     0.000000     0.270000     0.000000  \n",
       "75%       2.620000    348.000000     3.100000     0.710000     0.100000  \n",
       "max     123.600000  16500.000000  2400.000000   149.400000   250.000000  "
      ]
     },
     "execution_count": 6,
     "metadata": {},
     "output_type": "execute_result"
    }
   ],
   "source": [
    "usda.describe()"
   ]
  },
  {
   "cell_type": "code",
   "execution_count": 7,
   "metadata": {},
   "outputs": [
    {
     "name": "stdout",
     "output_type": "stream",
     "text": [
      "<class 'pandas.core.frame.DataFrame'>\n",
      "RangeIndex: 7058 entries, 0 to 7057\n",
      "Data columns (total 16 columns):\n",
      "ID              7058 non-null int64\n",
      "Description     7058 non-null object\n",
      "Calories        7057 non-null float64\n",
      "Protein         7057 non-null float64\n",
      "TotalFat        7057 non-null float64\n",
      "Carbohydrate    7057 non-null float64\n",
      "Sodium          6974 non-null float64\n",
      "SaturatedFat    6757 non-null float64\n",
      "Cholesterol     6770 non-null float64\n",
      "Sugar           5148 non-null float64\n",
      "Calcium         6922 non-null float64\n",
      "Iron            6935 non-null float64\n",
      "Potassium       6649 non-null float64\n",
      "VitaminC        6726 non-null float64\n",
      "VitaminE        4338 non-null float64\n",
      "VitaminD        4224 non-null float64\n",
      "dtypes: float64(14), int64(1), object(1)\n",
      "memory usage: 882.3+ KB\n"
     ]
    }
   ],
   "source": [
    "usda.info()"
   ]
  },
  {
   "cell_type": "code",
   "execution_count": 8,
   "metadata": {},
   "outputs": [],
   "source": [
    "sodium=(usda['Sodium'])"
   ]
  },
  {
   "cell_type": "code",
   "execution_count": 9,
   "metadata": {},
   "outputs": [
    {
     "data": {
      "image/png": "[encoded data removed]",
      "text/plain": [
       "<Figure size 432x288 with 1 Axes>"
      ]
     },
     "metadata": {},
     "output_type": "display_data"
    }
   ],
   "source": [
    "sodium= sodium.dropna()\n",
    "plt.hist(sodium , bins=30)\n",
    "plt.show()"
   ]
  },
  {
   "cell_type": "code",
   "execution_count": 10,
   "metadata": {},
   "outputs": [
    {
     "name": "stdout",
     "output_type": "stream",
     "text": [
      "38758.0\n"
     ]
    }
   ],
   "source": [
    "print(max(sodium))\n"
   ]
  },
  {
   "cell_type": "markdown",
   "metadata": {},
   "source": [
    "<h4> Description column of the MAX of Sodium column </h4>"
   ]
  },
  {
   "cell_type": "code",
   "execution_count": 11,
   "metadata": {},
   "outputs": [
    {
     "data": {
      "text/plain": [
       "'SALT,TABLE'"
      ]
     },
     "execution_count": 11,
     "metadata": {},
     "output_type": "execute_result"
    }
   ],
   "source": [
    "max(usda['Sodium'])\n",
    "usda.loc[usda['Sodium']== max(usda['Sodium']), 'Description'].iloc[0]"
   ]
  },
  {
   "cell_type": "markdown",
   "metadata": {},
   "source": [
    "<h4> <span style= \"color:purple\">Description of the MAX of Calcium</span></h4>"
   ]
  },
  {
   "cell_type": "code",
   "execution_count": null,
   "metadata": {},
   "outputs": [],
   "source": []
  },
  {
   "cell_type": "code",
   "execution_count": 12,
   "metadata": {},
   "outputs": [
    {
     "data": {
      "text/plain": [
       "'LEAVENING AGENTS,BAKING PDR,DOUBLE-ACTING,STRAIGHT PO4'"
      ]
     },
     "execution_count": 12,
     "metadata": {},
     "output_type": "execute_result"
    }
   ],
   "source": [
    "usda.loc[usda['Calcium']==max(usda['Calcium']),'Description'].iloc[0]"
   ]
  },
  {
   "cell_type": "code",
   "execution_count": null,
   "metadata": {},
   "outputs": [],
   "source": []
  },
  {
   "cell_type": "markdown",
   "metadata": {},
   "source": [
    "accessing a record"
   ]
  },
  {
   "cell_type": "code",
   "execution_count": 13,
   "metadata": {},
   "outputs": [
    {
     "data": {
      "text/html": [
       "<div>\n",
       "<style scoped>\n",
       "    .dataframe tbody tr th:only-of-type {\n",
       "        vertical-align: middle;\n",
       "    }\n",
       "\n",
       "    .dataframe tbody tr th {\n",
       "        vertical-align: top;\n",
       "    }\n",
       "\n",
       "    .dataframe thead th {\n",
       "        text-align: right;\n",
       "    }\n",
       "</style>\n",
       "<table border=\"1\" class=\"dataframe\">\n",
       "  <thead>\n",
       "    <tr style=\"text-align: right;\">\n",
       "      <th></th>\n",
       "      <th>ID</th>\n",
       "      <th>Description</th>\n",
       "      <th>Calories</th>\n",
       "      <th>Protein</th>\n",
       "      <th>TotalFat</th>\n",
       "      <th>Carbohydrate</th>\n",
       "      <th>Sodium</th>\n",
       "      <th>SaturatedFat</th>\n",
       "      <th>Cholesterol</th>\n",
       "      <th>Sugar</th>\n",
       "      <th>Calcium</th>\n",
       "      <th>Iron</th>\n",
       "      <th>Potassium</th>\n",
       "      <th>VitaminC</th>\n",
       "      <th>VitaminE</th>\n",
       "      <th>VitaminD</th>\n",
       "    </tr>\n",
       "  </thead>\n",
       "  <tbody>\n",
       "    <tr>\n",
       "      <th>5321</th>\n",
       "      <td>18370</td>\n",
       "      <td>LEAVENING AGENTS,BAKING PDR,DOUBLE-ACTING,STRA...</td>\n",
       "      <td>51.0</td>\n",
       "      <td>0.1</td>\n",
       "      <td>0.0</td>\n",
       "      <td>24.1</td>\n",
       "      <td>7893.0</td>\n",
       "      <td>0.0</td>\n",
       "      <td>0.0</td>\n",
       "      <td>0.0</td>\n",
       "      <td>7364.0</td>\n",
       "      <td>11.27</td>\n",
       "      <td>5.0</td>\n",
       "      <td>0.0</td>\n",
       "      <td>0.0</td>\n",
       "      <td>0.0</td>\n",
       "    </tr>\n",
       "  </tbody>\n",
       "</table>\n",
       "</div>"
      ],
      "text/plain": [
       "         ID                                        Description  Calories  \\\n",
       "5321  18370  LEAVENING AGENTS,BAKING PDR,DOUBLE-ACTING,STRA...      51.0   \n",
       "\n",
       "      Protein  TotalFat  Carbohydrate  Sodium  SaturatedFat  Cholesterol  \\\n",
       "5321      0.1       0.0          24.1  7893.0           0.0          0.0   \n",
       "\n",
       "      Sugar  Calcium   Iron  Potassium  VitaminC  VitaminE  VitaminD  \n",
       "5321    0.0   7364.0  11.27        5.0       0.0       0.0       0.0  "
      ]
     },
     "execution_count": 13,
     "metadata": {},
     "output_type": "execute_result"
    }
   ],
   "source": [
    "usda[usda['Description']=='LEAVENING AGENTS,BAKING PDR,DOUBLE-ACTING,STRAIGHT PO4']"
   ]
  },
  {
   "cell_type": "code",
   "execution_count": 14,
   "metadata": {},
   "outputs": [
    {
     "data": {
      "text/plain": [
       "2607               BEANS,KIDNEY,MATURE SEEDS,SPROUTED,RAW\n",
       "2608    BEANS,KIDNEY,MATURE SEEDS,SPROUTED,CKD,BLD,DRN...\n",
       "2611        BEANS,LIMA,IMMAT SEEDS,CND,REG PK,SOL&LIQUIDS\n",
       "2619                 BEANS,NAVY,MATURE SEEDS,SPROUTED,RAW\n",
       "2620    BEANS,NAVY,MATURE SEEDS,SPROUTED,CKD,BLD,DRND,...\n",
       "2621                   BEANS,PINTO,IMMAT SEEDS,FRZ,UNPREP\n",
       "2622     BEANS,PINTO,IMMAT SEEDS,FRZ,CKD,BLD,DRND,WO/SALT\n",
       "2623                      BEANS,SHELLIE,CND,SOL & LIQUIDS\n",
       "2624                                 BEANS,SNAP,GREEN,RAW\n",
       "2625                  BEANS,SNAP,GRN,CKD,BLD,DRND,WO/SALT\n",
       "2626            BEANS,SNAP,GRN VAR,CND,REG PK,SOL&LIQUIDS\n",
       "2627                   BEANS,SNAP,GRN,CND,REG PK,DRND SOL\n",
       "2628       BEANS,SNAP,CND,ALL STYLES,SEASONED,SOL&LIQUIDS\n",
       "2629                 BEANS,SNAP,GRN,FRZ,ALL STYLES,UNPREP\n",
       "2630              BEANS,SNAP,GRN,FRZ,CKD,BLD,DRND WO/SALT\n",
       "2631             BEANS,SNAP,GRN,FRZ,ALL STYLES,MICROWAVED\n",
       "2632                            BEANS,SNAP,GRN,MICROWAVED\n",
       "2639                           BROADBEANS,IMMAT SEEDS,RAW\n",
       "2640          BROADBEANS,IMMAT SEEDS,CKD,BLD,DRND,WO/SALT\n",
       "2745                       HYACINTH-BEANS,IMMAT SEEDS,RAW\n",
       "2746      HYACINTH-BEANS,IMMAT SEEDS,CKD,BLD,DRND,WO/SALT\n",
       "2930                                   SOYBEANS,GREEN,RAW\n",
       "2931                    SOYBEANS,GRN,CKD,BLD,DRND,WO/SALT\n",
       "2932                   SOYBEANS,MATURE SEEDS,SPROUTED,RAW\n",
       "2933              SOYBEANS,MATURE SEEDS,SPROUTED,CKD,STMD\n",
       "2934        SOYBEANS,MATURE SEEDS,SPROUTED,CKD,STIR-FRIED\n",
       "3051        BEANS,MUNG,MATURE SEEDS,SPROUTED,CND,DRND SOL\n",
       "3063                BEANS,PINTO,MATURE SEEDS,SPROUTED,RAW\n",
       "3064    BEANS,PINTO,MATURE SEEDS,SPROUTED,CKD,BLD,DRND...\n",
       "3098    BEANS,KIDNEY,MATURE SEEDS,SPROUTED,CKD,BLD,DRN...\n",
       "                              ...                        \n",
       "4498                      SOYBEANS,MATURE CKD,BLD,WO/SALT\n",
       "4499                    SOYBEANS,MATURE SEEDS,RSTD,SALTED\n",
       "4500                       SOYBEANS,MATURE SEEDS,DRY RSTD\n",
       "4529           BEANS,RED,KIDNEY,MATURE SEEDS,CND,DRND SOL\n",
       "4530                             BEANS,PINTO,CND,DRND SOL\n",
       "4608                BEANS,ADZUKI,MATURE SD,CKD,BLD,W/SALT\n",
       "4609              BEANS,BLACK,MATURE SEEDS,CKD,BLD,W/SALT\n",
       "4610    BEANS,BLACK TURTLE SOUP,MATURE SEEDS,CKD,BLD,W...\n",
       "4611    BEANS,CRANBERRY (ROMAN),MATURE SEEDS,CKD,BLD,W...\n",
       "4612             BEANS,FRENCH,MATURE SEEDS,CKD,BLD,W/SALT\n",
       "4613     BEANS,GREAT NORTHERN,MATURE SEEDS,CKD,BLD,W/SALT\n",
       "4614    BEANS,KIDNEY,ALL TYPES,MATURE SEEDS,CKD,BLD,W/...\n",
       "4615    BEANS,KIDNEY,CALIFORNIA RED,MATURE SEEDS,CKD,B...\n",
       "4616         BEANS,KIDNEY,RED,MATURE SEEDS,CKD,BLD,W/SALT\n",
       "4617    BEANS,KIDNEY,RED,MATURE SEEDS,CND,DRND SOI,RIN...\n",
       "4618    BEANS,KIDNEY,ROYAL RED,MATURE SEEDS,CKD,BLD W/...\n",
       "4619               BEANS,NAVY,MATURE SEEDS,CKD,BLD,W/SALT\n",
       "4620               BEANS,PINK,MATURE SEEDS,CKD,BLD,W/SALT\n",
       "4621              BEANS,PINTO,MATURE SEEDS,CKD,BLD,W/SALT\n",
       "4622    BEANS,PINTO,MATURE SEEDS,CND,DRND SOL,RINSED I...\n",
       "4623          BEANS,SML WHITE,MATURE SEEDS,CKD,BLD,W/SALT\n",
       "4624                BEANS,YEL,MATURE SEEDS,CKD,BLD,W/SALT\n",
       "4625             BEANS,WHITE,MATURE SEEDS,CKD,BLD,W/ SALT\n",
       "4626    BROADBEANS (FAVA BNS),MATURE SEEDS,CKD,BLD,W/SALT\n",
       "4637                MOTHBEANS,MATURE SEEDS,CKD,BLD,W/SALT\n",
       "4650                 SOYBEANS,MATURE SEEDS,CKD,BLD,W/SALT\n",
       "4651            SOYBEANS,MATURE SEEDS,RSTED,NO SALT ADDED\n",
       "5596                                   CANDIES,JELLYBEANS\n",
       "6936                 BEANS,CHILI,BARBECUE,RANCH STYLE,CKD\n",
       "6938                       BEANS,LIQ FROM STWD KIDNEY BNS\n",
       "Name: Description, Length: 139, dtype: object"
      ]
     },
     "execution_count": 14,
     "metadata": {},
     "output_type": "execute_result"
    }
   ],
   "source": [
    "usda.loc[usda['Description'].str.contains('BEANS'),'Description']"
   ]
  },
  {
   "cell_type": "code",
   "execution_count": null,
   "metadata": {},
   "outputs": [],
   "source": []
  },
  {
   "cell_type": "code",
   "execution_count": null,
   "metadata": {},
   "outputs": [],
   "source": []
  },
  {
   "cell_type": "code",
   "execution_count": null,
   "metadata": {},
   "outputs": [],
   "source": []
  },
  {
   "cell_type": "code",
   "execution_count": null,
   "metadata": {},
   "outputs": [],
   "source": []
  },
  {
   "cell_type": "code",
   "execution_count": null,
   "metadata": {},
   "outputs": [],
   "source": []
  },
  {
   "cell_type": "code",
   "execution_count": null,
   "metadata": {},
   "outputs": [],
   "source": []
  },
  {
   "cell_type": "code",
   "execution_count": null,
   "metadata": {},
   "outputs": [],
   "source": []
  }
 ],
 "metadata": {
  "kernelspec": {
   "display_name": "Python 3",
   "language": "python",
   "name": "python3"
  },
  "language_info": {
   "codemirror_mode": {
    "name": "ipython",
    "version": 3
   },
   "file_extension": ".py",
   "mimetype": "text/x-python",
   "name": "python",
   "nbconvert_exporter": "python",
   "pygments_lexer": "ipython3",
   "version": "3.6.5"
  }
 },
 "nbformat": 4,
 "nbformat_minor": 2
}
