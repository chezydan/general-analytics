{
 "cells": [
  {
   "cell_type": "markdown",
   "metadata": {},
   "source": [
    "<h1> Chapter 3 . examples </h1>"
   ]
  },
  {
   "cell_type": "markdown",
   "metadata": {},
   "source": [
    "<h2> option maturity , volatility </h2>"
   ]
  },
  {
   "cell_type": "markdown",
   "metadata": {},
   "source": [
    "parameters in the Black-Scholes-Merton option pricing formula: <br>\n",
    "<strong>  St</strong> : price level of the underlying at time t <br>\n",
    "<strong> K </strong>: strike price of the option - the price at which you can buy the underlying security when exercising a call option, or at which you can sell the underlying when exercising a put.\n",
    "<strong>T </strong> : maturity date of the option<br>\n",
    "<strong>r </strong>: constant riskless short rate<br>\n",
    "<strong>sigma? </strong> constant volatility ( std of the returns of the underlying"
   ]
  },
  {
   "cell_type": "code",
   "execution_count": 1,
   "metadata": {},
   "outputs": [],
   "source": [
    "from math import log, sqrt, exp\n",
    "from scipy import stats"
   ]
  },
  {
   "cell_type": "code",
   "execution_count": 13,
   "metadata": {},
   "outputs": [
    {
     "data": {
      "text/plain": [
       "'\\ndef bsm_vega(S0, K, T, r, sigma):\\n\\n    from math import log, sqrt\\n    from scipy import stats\\n    S0 = float(S0)\\n    d1 = (log(S0 / K) + (r + 0.5 * sigma ** 2) * T / (sigma * sqrt(T))\\n    vega = S0 * stats.norm.cdf(d1, 0.0, 1.0) * sqrt(T)\\n    return vega  \\n'"
      ]
     },
     "execution_count": 13,
     "metadata": {},
     "output_type": "execute_result"
    }
   ],
   "source": [
    "\n",
    "def bsm_call_value(S0, K, T, r, sigma):\n",
    "    '''Valuation of European call option in BSM model.\n",
    "            Analytical formula.\n",
    "            Parameters\n",
    "            ==========\n",
    "            S0 : float\n",
    "            initial stock/index level\n",
    "            K : float\n",
    "            strike price\n",
    "            T : float\n",
    "            maturity date (in year fractions)\n",
    "            r : float\n",
    "            constant risk-free short rate\n",
    "            sigma : float\n",
    "            volatility factor in diffusion term\n",
    "            Returns\n",
    "            =======\n",
    "            value : float\n",
    "            present value of the European call option\n",
    "            '''\n",
    "    S0 = float(S0)\n",
    "    d1 = (log(S0 / K) + (r + 0.5 * sigma ** 2) * T) / (sigma * sqrt(T))\n",
    "    d2 = (log(S0 / K) + (r - 0.5 * sigma ** 2) * T) / (sigma * sqrt(T))\n",
    "    value = (S0 * stats.norm.cdf(d1, 0.0, 1.0)     - K * exp(-r * T) * stats.norm.cdf(d2, 0.0, 1.0))\n",
    "        # stats.norm.cdf —> cumulative distribution function\n",
    "            #       for normal distribution\n",
    "    return value\n",
    "\n",
    "'''\n",
    "def bsm_vega(S0, K, T, r, sigma):\n",
    "\n",
    "    from math import log, sqrt\n",
    "    from scipy import stats\n",
    "    S0 = float(S0)\n",
    "    d1 = (log(S0 / K) + (r + 0.5 * sigma ** 2) * T / (sigma * sqrt(T))\n",
    "    vega = S0 * stats.norm.cdf(d1, 0.0, 1.0) * sqrt(T)\n",
    "    return vega  \n",
    "'''"
   ]
  },
  {
   "cell_type": "code",
   "execution_count": null,
   "metadata": {},
   "outputs": [],
   "source": []
  },
  {
   "cell_type": "code",
   "execution_count": null,
   "metadata": {},
   "outputs": [],
   "source": []
  },
  {
   "cell_type": "markdown",
   "metadata": {},
   "source": [
    "<h2>Monte Carlo Simulation </h2>"
   ]
  },
  {
   "cell_type": "code",
   "execution_count": null,
   "metadata": {},
   "outputs": [],
   "source": []
  },
  {
   "cell_type": "code",
   "execution_count": null,
   "metadata": {},
   "outputs": [],
   "source": []
  },
  {
   "cell_type": "code",
   "execution_count": null,
   "metadata": {},
   "outputs": [],
   "source": []
  }
 ],
 "metadata": {
  "kernelspec": {
   "display_name": "Python 3",
   "language": "python",
   "name": "python3"
  },
  "language_info": {
   "codemirror_mode": {
    "name": "ipython",
    "version": 3
   },
   "file_extension": ".py",
   "mimetype": "text/x-python",
   "name": "python",
   "nbconvert_exporter": "python",
   "pygments_lexer": "ipython3",
   "version": "3.6.5"
  }
 },
 "nbformat": 4,
 "nbformat_minor": 2
}
