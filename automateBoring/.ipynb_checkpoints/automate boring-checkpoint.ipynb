{
 "cells": [
  {
   "cell_type": "markdown",
   "metadata": {},
   "source": [
    "<h1> Automate Boring Stuff </h1>"
   ]
  },
  {
   "cell_type": "markdown",
   "metadata": {},
   "source": [
    "<h2>Manipulating Strings </h2>"
   ]
  },
  {
   "cell_type": "code",
   "execution_count": null,
   "metadata": {},
   "outputs": [],
   "source": []
  },
  {
   "cell_type": "code",
   "execution_count": null,
   "metadata": {},
   "outputs": [],
   "source": []
  },
  {
   "cell_type": "code",
   "execution_count": null,
   "metadata": {},
   "outputs": [],
   "source": []
  },
  {
   "cell_type": "code",
   "execution_count": 7,
   "metadata": {},
   "outputs": [],
   "source": [
    "import pyperclip\n",
    "text = pyperclip.paste()\n",
    "\n",
    "# Separate lines and add stars.\n",
    "lines = text.split('\\n')\n",
    "for i in range(len(lines)):\n",
    "# loop through all indexes for \"lines\" list\n",
    "    lines[i] = '* ' + lines[i] # add star to each string in \"lines\" list\n",
    "text = '\\n'.join(lines)\n",
    "pyperclip.copy(text)"
   ]
  },
  {
   "cell_type": "code",
   "execution_count": null,
   "metadata": {},
   "outputs": [],
   "source": []
  },
  {
   "cell_type": "code",
   "execution_count": null,
   "metadata": {},
   "outputs": [],
   "source": []
  },
  {
   "cell_type": "markdown",
   "metadata": {},
   "source": [
    "<h2> 7. regex </h2>"
   ]
  },
  {
   "cell_type": "markdown",
   "metadata": {},
   "source": [
    "0 (import)\n",
    "1. compile\n",
    "2. build match object\n",
    "3. result\n"
   ]
  },
  {
   "cell_type": "code",
   "execution_count": 40,
   "metadata": {},
   "outputs": [
    {
     "name": "stdout",
     "output_type": "stream",
     "text": [
      "<class '_sre.SRE_Match'>\n"
     ]
    },
    {
     "data": {
      "text/plain": [
       "'Batman'"
      ]
     },
     "execution_count": 40,
     "metadata": {},
     "output_type": "execute_result"
    }
   ],
   "source": [
    "import re\n",
    "heroRegex = re.compile (r'Batman|Tina Fey')\n",
    "mo1 = heroRegex.search('Batman and Tina Fey.')\n",
    "print(type(mo1))\n",
    "mo1.group()"
   ]
  },
  {
   "cell_type": "code",
   "execution_count": null,
   "metadata": {},
   "outputs": [],
   "source": []
  },
  {
   "cell_type": "code",
   "execution_count": 91,
   "metadata": {},
   "outputs": [],
   "source": [
    "import re\n",
    "def isStrong(psw):\n",
    "    strong=True\n",
    "    p1 = re.compile(r'^[a-zA-Z0-9]{8,}$')\n",
    "    r1 = p1.search(psw)\n",
    "   \n",
    "    if  (r1 == None):\n",
    "        print(\"less than 8 alphanumeric characters!\")\n",
    "        strong = False\n",
    "    p2 = re.compile(r'[a-z]')\n",
    "    r2= p2.search(psw)\n",
    "    if (r2 ==None):\n",
    "        print(\"no lower case char\")\n",
    "        strong = False\n",
    "    p3 = re.compile(r'[A-Z]')\n",
    "    r3= p3.search(psw)\n",
    "    if (r3 == None):\n",
    "        print(\"no upper case!\")\n",
    "        strong = False\n",
    "    p4 = re.compile(r'[0-9]')\n",
    "    r4 = p4.search(psw)\n",
    "    if r4 == None:\n",
    "        print(\"no numeric char !\")\n",
    "        strong = False\n",
    "    \n",
    "    return strong"
   ]
  },
  {
   "cell_type": "code",
   "execution_count": 95,
   "metadata": {},
   "outputs": [
    {
     "name": "stdout",
     "output_type": "stream",
     "text": [
      "1\n",
      "less than 8 alphanumeric characters!\n",
      "2\n",
      "3\n"
     ]
    },
    {
     "data": {
      "text/plain": [
       "True"
      ]
     },
     "execution_count": 95,
     "metadata": {},
     "output_type": "execute_result"
    }
   ],
   "source": [
    "print(\"1\")\n",
    "isStrong(\"5bBb678\")\n",
    "print(\"2\")\n",
    "isStrong(\"dAfaaa1aaaaa\")\n",
    "print(\"3\")\n",
    "isStrong(\"00000a2A\")"
   ]
  },
  {
   "cell_type": "code",
   "execution_count": null,
   "metadata": {},
   "outputs": [],
   "source": [
    "p1"
   ]
  },
  {
   "cell_type": "code",
   "execution_count": null,
   "metadata": {},
   "outputs": [],
   "source": []
  },
  {
   "cell_type": "markdown",
   "metadata": {},
   "source": [
    "<h2> 8 working with files </h2>"
   ]
  },
  {
   "cell_type": "code",
   "execution_count": 96,
   "metadata": {},
   "outputs": [
    {
     "data": {
      "text/plain": [
       "'/home/dan/Documents/GeneralAnalytics/automateBoring'"
      ]
     },
     "execution_count": 96,
     "metadata": {},
     "output_type": "execute_result"
    }
   ],
   "source": [
    "import os\n",
    "os.getcwd()"
   ]
  },
  {
   "cell_type": "code",
   "execution_count": 105,
   "metadata": {},
   "outputs": [],
   "source": [
    "try:\n",
    "    os.makedirs(\"new2\")\n",
    "except: FileExistsError"
   ]
  },
  {
   "cell_type": "code",
   "execution_count": null,
   "metadata": {},
   "outputs": [],
   "source": []
  },
  {
   "cell_type": "markdown",
   "metadata": {},
   "source": [
    "`os.path.getsize(path)`"
   ]
  },
  {
   "cell_type": "code",
   "execution_count": 115,
   "metadata": {},
   "outputs": [
    {
     "name": "stdout",
     "output_type": "stream",
     "text": [
      "/home/dan/Documents/GeneralAnalytics/automateBoring\n"
     ]
    },
    {
     "data": {
      "text/plain": [
       "['newdir', 'pw.py', 'new2', '.ipynb_checkpoints', 'automate boring.ipynb']"
      ]
     },
     "execution_count": 115,
     "metadata": {},
     "output_type": "execute_result"
    }
   ],
   "source": [
    "path=os.getcwd()\n",
    "print(path)\n",
    "os.listdir((path))"
   ]
  },
  {
   "cell_type": "code",
   "execution_count": 119,
   "metadata": {},
   "outputs": [
    {
     "data": {
      "text/plain": [
       "8351"
      ]
     },
     "execution_count": 119,
     "metadata": {},
     "output_type": "execute_result"
    }
   ],
   "source": [
    "os.path.getsize(os.path.join(path,'automate boring.ipynb'))"
   ]
  },
  {
   "cell_type": "code",
   "execution_count": null,
   "metadata": {},
   "outputs": [],
   "source": []
  },
  {
   "cell_type": "code",
   "execution_count": null,
   "metadata": {},
   "outputs": [],
   "source": []
  },
  {
   "cell_type": "markdown",
   "metadata": {},
   "source": [
    "<h3>path validity </h3>"
   ]
  },
  {
   "cell_type": "markdown",
   "metadata": {},
   "source": [
    "`os.path.exists(path)`\n",
    "\n",
    "`os.path.isfile(path)`\n",
    "\n",
    "`os.path.isdir(path)`\n",
    "\n"
   ]
  },
  {
   "cell_type": "code",
   "execution_count": null,
   "metadata": {},
   "outputs": [],
   "source": []
  },
  {
   "cell_type": "code",
   "execution_count": null,
   "metadata": {},
   "outputs": [],
   "source": []
  },
  {
   "cell_type": "code",
   "execution_count": null,
   "metadata": {},
   "outputs": [],
   "source": []
  },
  {
   "cell_type": "code",
   "execution_count": null,
   "metadata": {},
   "outputs": [],
   "source": []
  },
  {
   "cell_type": "code",
   "execution_count": null,
   "metadata": {},
   "outputs": [],
   "source": []
  },
  {
   "cell_type": "code",
   "execution_count": null,
   "metadata": {},
   "outputs": [],
   "source": []
  },
  {
   "cell_type": "code",
   "execution_count": null,
   "metadata": {},
   "outputs": [],
   "source": []
  },
  {
   "cell_type": "markdown",
   "metadata": {},
   "source": [
    "<h3> Flle Reading/Writing process </h3>\n"
   ]
  },
  {
   "cell_type": "markdown",
   "metadata": {},
   "source": [
    "** three steps **\n",
    "1 open()\n",
    "2 read ()\n",
    "3 close()\n"
   ]
  },
  {
   "cell_type": "markdown",
   "metadata": {},
   "source": [
    "<h5> Open </h5>\n",
    "returns a `File` objects, it represents a file on your computer"
   ]
  },
  {
   "cell_type": "code",
   "execution_count": null,
   "metadata": {},
   "outputs": [],
   "source": []
  },
  {
   "cell_type": "markdown",
   "metadata": {},
   "source": [
    "<h5> Reading </h5>\n",
    "having a  `File` object it is possible to read the contents\n"
   ]
  },
  {
   "cell_type": "markdown",
   "metadata": {},
   "source": [
    "`read()` returns the stirng stored in the file <br>\n",
    "`readlines()` returns a __list__ of string values (each string being a line )"
   ]
  },
  {
   "cell_type": "code",
   "execution_count": null,
   "metadata": {},
   "outputs": [],
   "source": []
  },
  {
   "cell_type": "code",
   "execution_count": 120,
   "metadata": {},
   "outputs": [
    {
     "data": {
      "text/plain": [
       "[\"When, in disgrace with fortune and men's eyes,\\n\",\n",
       " 'I all alone beweep my outcast state,\\n',\n",
       " 'And trouble deaf heaven with my bootless cries,\\n',\n",
       " 'And look upon myself and curse my fate,']"
      ]
     },
     "execution_count": 120,
     "metadata": {},
     "output_type": "execute_result"
    }
   ],
   "source": [
    "sonnetFile = open('sonnet29.txt')\n",
    "sonnetFile.readlines()"
   ]
  },
  {
   "cell_type": "code",
   "execution_count": 121,
   "metadata": {},
   "outputs": [
    {
     "data": {
      "text/plain": [
       "list"
      ]
     },
     "execution_count": 121,
     "metadata": {},
     "output_type": "execute_result"
    }
   ],
   "source": [
    "type(sonnetFile.readlines())"
   ]
  },
  {
   "cell_type": "markdown",
   "metadata": {},
   "source": [
    "<h5> write </h5>"
   ]
  },
  {
   "cell_type": "code",
   "execution_count": null,
   "metadata": {},
   "outputs": [],
   "source": []
  },
  {
   "cell_type": "code",
   "execution_count": null,
   "metadata": {},
   "outputs": [],
   "source": []
  },
  {
   "cell_type": "code",
   "execution_count": null,
   "metadata": {},
   "outputs": [],
   "source": []
  },
  {
   "cell_type": "markdown",
   "metadata": {},
   "source": [
    "<h3>Saving variables with the shelve module </h3>"
   ]
  },
  {
   "cell_type": "code",
   "execution_count": 131,
   "metadata": {},
   "outputs": [],
   "source": [
    "import shelve\n",
    "#call shelve.open()\n",
    "shelfFile = shelve.open('mydata')\n",
    "\n",
    "#store the values in a variable\n",
    "cats = ['zophie', 'Pooka', 'Simon']\n",
    "shelfFile['cats']=cats\n",
    "\n",
    "#close\n",
    "shelfFile.close()"
   ]
  },
  {
   "cell_type": "markdown",
   "metadata": {},
   "source": [
    "in windows and linux  3 files will be created\n",
    "  `name.bak name.dat name.dir`"
   ]
  },
  {
   "cell_type": "code",
   "execution_count": 135,
   "metadata": {},
   "outputs": [
    {
     "name": "stdout",
     "output_type": "stream",
     "text": [
      "<class 'shelve.DbfilenameShelf'>\n",
      "['zophie', 'Pooka', 'Simon']\n"
     ]
    }
   ],
   "source": [
    "shelfFile = shelve.open('mydata')\n",
    "\n",
    "print(type(shelfFile))\n",
    "\n",
    "print(shelfFile['cats'])\n",
    "\n",
    "shelfFile.close()"
   ]
  },
  {
   "cell_type": "markdown",
   "metadata": {},
   "source": [
    "retrieve as **list**"
   ]
  },
  {
   "cell_type": "code",
   "execution_count": 138,
   "metadata": {},
   "outputs": [
    {
     "name": "stdout",
     "output_type": "stream",
     "text": [
      "['cats']\n",
      "[['zophie', 'Pooka', 'Simon']]\n"
     ]
    }
   ],
   "source": [
    "shelfFile = shelve.open('mydata')\n",
    "catlist = list(shelfFile.keys())\n",
    "print(catlist)\n",
    "\n",
    "catValuesList = list(shelfFile.values())\n",
    "print(catValuesList)\n",
    "\n",
    "shelfFile.close()"
   ]
  },
  {
   "cell_type": "code",
   "execution_count": null,
   "metadata": {},
   "outputs": [],
   "source": []
  },
  {
   "cell_type": "markdown",
   "metadata": {},
   "source": [
    "<h4> saving vars with  `pprint.pformat()` </h4>\n",
    "Using pprint.pformat() will give you a string that you can write\n",
    "to .py file. This file will be your very own module that you can import when-\n",
    "ever you want to use the variable stored in it."
   ]
  },
  {
   "cell_type": "code",
   "execution_count": 144,
   "metadata": {},
   "outputs": [],
   "source": [
    "import pprint\n",
    "cats = [{'name': 'Zophie', 'desc': 'chubby'}, {'name': 'Pooka', 'desc': 'fluffy'}]\n",
    "pprint.pformat(cats)\n",
    "fileObj = open('myCats.py', 'w')\n",
    "fileObj.write('cats = '+ pprint.pformat(cats) +'\\n')\n",
    "fileObj.close()"
   ]
  },
  {
   "cell_type": "code",
   "execution_count": null,
   "metadata": {},
   "outputs": [],
   "source": []
  },
  {
   "cell_type": "markdown",
   "metadata": {},
   "source": [
    "<h3>Generating Random Quiz Files </h3>"
   ]
  },
  {
   "cell_type": "code",
   "execution_count": 70,
   "metadata": {},
   "outputs": [],
   "source": [
    "capitals = {'Alabama': 'Montgomery', 'Alaska': 'Juneau', 'Arizona': 'Phoenix',\n",
    "'Arkansas': 'Little Rock', 'California': 'Sacramento', 'Colorado': 'Denver',\n",
    "'Connecticut': 'Hartford', 'Delaware': 'Dover', 'Florida': 'Tallahassee',\n",
    "'Georgia': 'Atlanta', 'Hawaii': 'Honolulu', 'Idaho': 'Boise', 'Illinois':\n",
    "'Springfield', 'Indiana': 'Indianapolis', 'Iowa': 'Des Moines', 'Kansas':\n",
    "'Topeka', 'Kentucky': 'Frankfort', 'Louisiana': 'Baton Rouge', 'Maine':\n",
    "'Augusta', 'Maryland': 'Annapolis', 'Massachusetts': 'Boston', 'Michigan':\n",
    "'Lansing', 'Minnesota': 'Saint Paul', 'Mississippi': 'Jackson', 'Missouri':\n",
    "'Jefferson City', 'Montana': 'Helena', 'Nebraska': 'Lincoln', 'Nevada':\n",
    "'Carson City', 'New Hampshire': 'Concord', 'New Jersey': 'Trenton', 'NewMexico': 'Santa Fe', 'New York': 'Albany', 'North Carolina': 'Raleigh',\n",
    "'North Dakota': 'Bismarck', 'Ohio': 'Columbus', 'Oklahoma': 'Oklahoma City',\n",
    "'Oregon': 'Salem', 'Pennsylvania': 'Harrisburg', 'Rhode Island': 'Providence',\n",
    "'South Carolina': 'Columbia', 'South Dakota': 'Pierre', 'Tennessee':\n",
    "'Nashville', 'Texas': 'Austin', 'Utah': 'Salt Lake City', 'Vermont':\n",
    "'Montpelier', 'Virginia': 'Richmond', 'Washington': 'Olympia', 'West Virginia': 'Charleston', 'Wisconsin': 'Madison', 'Wyoming': 'Cheyenne'}"
   ]
  },
  {
   "cell_type": "code",
   "execution_count": 3,
   "metadata": {},
   "outputs": [
    {
     "data": {
      "text/plain": [
       "'Montgomery'"
      ]
     },
     "execution_count": 3,
     "metadata": {},
     "output_type": "execute_result"
    }
   ],
   "source": [
    "capitals['Alabama']"
   ]
  },
  {
   "cell_type": "code",
   "execution_count": 69,
   "metadata": {},
   "outputs": [],
   "source": [
    "\n",
    "#generate 35 quiz files\n",
    "#create quiz and anser key files\n",
    "NUM= 3\n",
    "for quizNum in range (NUM):\n",
    "    quizFile= open('capitalsquiz%s.txt' % (quizNum + 1 ), 'w') # quizNum being the unique number\n",
    "    answerKeyFile = open('capitalsquiz_answers%s.txt' %(quizNum+1),'w')\n",
    "#write out the header for the quiz\n",
    "    quizFile.write('Name:\\n\\n Date:\\n\\nPeriod \\n\\n')\n",
    "    quizFile.write((' ' * 20) + 'State Capitals Quiz (Form %s)' % (quizNum + 1))\n",
    "    quizFile.write('\\n\\n')\n",
    "# Shuffle the order of the states.\n",
    "    states = list(capitals.keys())\n",
    "    random.shuffle(states)\n",
    "#loop through all 50 states making a question for each\n",
    "\n",
    "    for questionNum in range(50):\n",
    "        #Get right and wrong answers\n",
    "        correctAnswer = capitals[states[questionNum]]\n",
    "        wrongAnswers = list(capitals.values())\n",
    "        del wrongAnswers[wrongAnswers.index(correctAnswer)]\n",
    "        wrongAnswers = random.sample(wrongAnswers, 3)\n",
    "        answerOptions = wrongAnswers + [correctAnswer]\n",
    "        random.shuffle(answerOptions)\n",
    "\n",
    "        # Write the question and the answer options to the quiz file.\n",
    "        quizFile.write('%s. What is the capital of %s?\\n' % (questionNum + 1, states[questionNum]))\n",
    "        for i in range(4):\n",
    "            quizFile.write('%s. %s\\n' % ('ABCD'[i], answerOptions[i]))\n",
    "        quizFile.write('\\n')\n",
    "     \n",
    "        # Write the answer key to a file.\n",
    "        answerKeyFile.write('%s. %s\\n' % (questionNum + 1, 'ABCD'[\n",
    "            answerOptions.index(correctAnswer)]))\n",
    "    quizFile.close()\n",
    "    answerKeyFile.close()"
   ]
  },
  {
   "cell_type": "code",
   "execution_count": 21,
   "metadata": {},
   "outputs": [
    {
     "ename": "IndentationError",
     "evalue": "unexpected indent (<ipython-input-21-1b2aa6758786>, line 3)",
     "output_type": "error",
     "traceback": [
      "\u001b[0;36m  File \u001b[0;32m\"<ipython-input-21-1b2aa6758786>\"\u001b[0;36m, line \u001b[0;32m3\u001b[0m\n\u001b[0;31m    for questionNum in range(50):\u001b[0m\n\u001b[0m    ^\u001b[0m\n\u001b[0;31mIndentationError\u001b[0m\u001b[0;31m:\u001b[0m unexpected indent\n"
     ]
    }
   ],
   "source": []
  },
  {
   "cell_type": "code",
   "execution_count": 72,
   "metadata": {},
   "outputs": [
    {
     "name": "stdout",
     "output_type": "stream",
     "text": [
      "capitalsquiz3.txt\n",
      "Massachusetts\n",
      "sonnet29.txt\n",
      "capitalsquiz1.txt\n",
      "Massachusetts\n",
      "capitalsquiz2.txt\n",
      "Massachusetts\n",
      "capitalsquiz_answers1.txt\n",
      "capitalsquiz_answers2.txt\n",
      "capitalsquiz_answers3.txt\n"
     ]
    }
   ],
   "source": [
    "\n",
    "\n",
    "#You can list all files in the current directory using:\n",
    "\n",
    "import os\n",
    "import re\n",
    "longW =re.compile(r'[a-zA-Z0-9]{13,}')\n",
    "\n",
    "for filename in os.listdir(os.getcwd()):\n",
    "   \n",
    "   # do your stuff\n",
    "    if filename[-4:]=='.txt':\n",
    "        print( filename)\n",
    "        fileh = open(filename, 'r')        \n",
    "        for line in fileh.readlines():\n",
    "          #  print(line)\n",
    "            \n",
    "            r=longW.search(line)\n",
    "            if r != None:\n",
    "                print(r.group())"
   ]
  },
  {
   "cell_type": "code",
   "execution_count": 67,
   "metadata": {},
   "outputs": [
    {
     "name": "stdout",
     "output_type": "stream",
     "text": [
      "None\n",
      "indeeeeeeeeed\n"
     ]
    }
   ],
   "source": [
    "a=\"this is along\"\n",
    "b=\" this is indeeeeeeeeed a long\"\n",
    "r= longW.search(a)\n",
    "print(r)\n",
    "rb= longW.search(b)\n",
    "print(rb.group())"
   ]
  },
  {
   "cell_type": "code",
   "execution_count": null,
   "metadata": {},
   "outputs": [],
   "source": []
  },
  {
   "cell_type": "markdown",
   "metadata": {},
   "source": [
    "<h2> 9. Organizing Files </h2>"
   ]
  },
  {
   "cell_type": "markdown",
   "metadata": {},
   "source": [
    "<h3>shutil module </h3>"
   ]
  },
  {
   "cell_type": "code",
   "execution_count": 74,
   "metadata": {},
   "outputs": [],
   "source": [
    "import shutil,os"
   ]
  },
  {
   "cell_type": "code",
   "execution_count": 77,
   "metadata": {},
   "outputs": [],
   "source": [
    "try:\n",
    "    os.makedirs(\"new3\")\n",
    "except: FileExistsError"
   ]
  },
  {
   "cell_type": "code",
   "execution_count": 97,
   "metadata": {},
   "outputs": [
    {
     "data": {
      "text/plain": [
       "'new2/sonnet29.txt'"
      ]
     },
     "execution_count": 97,
     "metadata": {},
     "output_type": "execute_result"
    }
   ],
   "source": [
    "shutil.copy('sonnet29.txt', 'new2')"
   ]
  },
  {
   "cell_type": "code",
   "execution_count": 99,
   "metadata": {},
   "outputs": [
    {
     "data": {
      "text/plain": [
       "'new2/son29.txt'"
      ]
     },
     "execution_count": 99,
     "metadata": {},
     "output_type": "execute_result"
    }
   ],
   "source": [
    "shutil.move('new2/sonnet29.txt', 'new2/son29.txt')"
   ]
  },
  {
   "cell_type": "code",
   "execution_count": 100,
   "metadata": {},
   "outputs": [
    {
     "data": {
      "text/plain": [
       "['son29.txt']"
      ]
     },
     "execution_count": 100,
     "metadata": {},
     "output_type": "execute_result"
    }
   ],
   "source": [
    "os.listdir('new2')"
   ]
  },
  {
   "cell_type": "code",
   "execution_count": null,
   "metadata": {},
   "outputs": [],
   "source": []
  },
  {
   "cell_type": "markdown",
   "metadata": {},
   "source": [
    "<h4> Safe deletex  with the send2trash Module </h4>"
   ]
  },
  {
   "cell_type": "code",
   "execution_count": 105,
   "metadata": {},
   "outputs": [],
   "source": [
    "import send2trash\n",
    "bacFile = open('bac.txt'    ,'a')\n",
    "bacFile.write('bac is not a vegetable')\n",
    "bacFile.close()\n",
    "send2trash.send2trash('bac.txt')"
   ]
  },
  {
   "cell_type": "code",
   "execution_count": null,
   "metadata": {},
   "outputs": [],
   "source": []
  },
  {
   "cell_type": "code",
   "execution_count": 111,
   "metadata": {},
   "outputs": [
    {
     "name": "stdout",
     "output_type": "stream",
     "text": [
      "The current folder is /home/dan/Documents/GeneralAnalytics/automateBoring\n",
      "SUBFOLDER OF /home/dan/Documents/GeneralAnalytics/automateBoring: newdir\n",
      "SUBFOLDER OF /home/dan/Documents/GeneralAnalytics/automateBoring: new2\n",
      "SUBFOLDER OF /home/dan/Documents/GeneralAnalytics/automateBoring: new3\n",
      "SUBFOLDER OF /home/dan/Documents/GeneralAnalytics/automateBoring: .ipynb_checkpoints\n",
      "FILE INSIDE /home/dan/Documents/GeneralAnalytics/automateBoring: myCats.py\n",
      "\n",
      "FILE INSIDE /home/dan/Documents/GeneralAnalytics/automateBoring: pw.py\n",
      "\n",
      "FILE INSIDE /home/dan/Documents/GeneralAnalytics/automateBoring: mydata.dir\n",
      "\n",
      "FILE INSIDE /home/dan/Documents/GeneralAnalytics/automateBoring: \n",
      "ew3\n",
      "\n",
      "FILE INSIDE /home/dan/Documents/GeneralAnalytics/automateBoring: capitalsquiz3.txt\n",
      "\n",
      "FILE INSIDE /home/dan/Documents/GeneralAnalytics/automateBoring: sonnet29.txt\n",
      "\n",
      "FILE INSIDE /home/dan/Documents/GeneralAnalytics/automateBoring: capitalsquiz1.txt\n",
      "\n",
      "FILE INSIDE /home/dan/Documents/GeneralAnalytics/automateBoring: mydata.dat\n",
      "\n",
      "FILE INSIDE /home/dan/Documents/GeneralAnalytics/automateBoring: capitalsquiz2.txt\n",
      "\n",
      "FILE INSIDE /home/dan/Documents/GeneralAnalytics/automateBoring: mydata.bak\n",
      "\n",
      "FILE INSIDE /home/dan/Documents/GeneralAnalytics/automateBoring: capitalsquiz_answers1.txt\n",
      "\n",
      "FILE INSIDE /home/dan/Documents/GeneralAnalytics/automateBoring: capitalsquiz_answers2.txt\n",
      "\n",
      "FILE INSIDE /home/dan/Documents/GeneralAnalytics/automateBoring: automate boring.ipynb\n",
      "\n",
      "FILE INSIDE /home/dan/Documents/GeneralAnalytics/automateBoring: capitalsquiz_answers3.txt\n",
      "\n",
      "The current folder is /home/dan/Documents/GeneralAnalytics/automateBoring/newdir\n",
      "The current folder is /home/dan/Documents/GeneralAnalytics/automateBoring/new2\n",
      "FILE INSIDE /home/dan/Documents/GeneralAnalytics/automateBoring/new2: son29.txt\n",
      "\n",
      "The current folder is /home/dan/Documents/GeneralAnalytics/automateBoring/new3\n",
      "The current folder is /home/dan/Documents/GeneralAnalytics/automateBoring/.ipynb_checkpoints\n",
      "FILE INSIDE /home/dan/Documents/GeneralAnalytics/automateBoring/.ipynb_checkpoints: automate boring-checkpoint.ipynb\n",
      "\n"
     ]
    }
   ],
   "source": [
    "import os\n",
    "for folderName, subfolders, filenames in os.walk(os.getcwd()):\n",
    "    print('The current folder is ' + folderName)\n",
    "    for subfolder in subfolders:\n",
    "        print('SUBFOLDER OF ' + folderName + ': ' + subfolder)\n",
    "    for filename in filenames:\n",
    "        print('FILE INSIDE ' + folderName + ': '+ filename)\n",
    "        print('')"
   ]
  },
  {
   "cell_type": "code",
   "execution_count": null,
   "metadata": {},
   "outputs": [],
   "source": []
  },
  {
   "cell_type": "markdown",
   "metadata": {},
   "source": [
    "<h3> reading zip files </h3>"
   ]
  },
  {
   "cell_type": "code",
   "execution_count": 112,
   "metadata": {},
   "outputs": [],
   "source": [
    "pass"
   ]
  },
  {
   "cell_type": "code",
   "execution_count": null,
   "metadata": {},
   "outputs": [],
   "source": []
  },
  {
   "cell_type": "code",
   "execution_count": null,
   "metadata": {},
   "outputs": [],
   "source": []
  },
  {
   "cell_type": "markdown",
   "metadata": {},
   "source": [
    "<h2> 9 Debugging </h2>"
   ]
  },
  {
   "cell_type": "code",
   "execution_count": null,
   "metadata": {},
   "outputs": [],
   "source": []
  },
  {
   "cell_type": "code",
   "execution_count": null,
   "metadata": {},
   "outputs": [],
   "source": []
  },
  {
   "cell_type": "code",
   "execution_count": 4,
   "metadata": {},
   "outputs": [
    {
     "ename": "Exception",
     "evalue": "This is an error msg",
     "output_type": "error",
     "traceback": [
      "\u001b[0;31m---------------------------------------------------------------------------\u001b[0m",
      "\u001b[0;31mException\u001b[0m                                 Traceback (most recent call last)",
      "\u001b[0;32m<ipython-input-4-56ecd682a20a>\u001b[0m in \u001b[0;36m<module>\u001b[0;34m()\u001b[0m\n\u001b[1;32m      3\u001b[0m \u001b[0;32mdef\u001b[0m \u001b[0mbac\u001b[0m\u001b[0;34m(\u001b[0m\u001b[0;34m)\u001b[0m\u001b[0;34m:\u001b[0m\u001b[0;34m\u001b[0m\u001b[0m\n\u001b[1;32m      4\u001b[0m     \u001b[0;32mraise\u001b[0m \u001b[0mException\u001b[0m\u001b[0;34m(\u001b[0m\u001b[0;34m'This is an error msg'\u001b[0m\u001b[0;34m)\u001b[0m\u001b[0;34m\u001b[0m\u001b[0m\n\u001b[0;32m----> 5\u001b[0;31m \u001b[0mspam\u001b[0m\u001b[0;34m(\u001b[0m\u001b[0;34m)\u001b[0m\u001b[0;34m\u001b[0m\u001b[0m\n\u001b[0m",
      "\u001b[0;32m<ipython-input-4-56ecd682a20a>\u001b[0m in \u001b[0;36mspam\u001b[0;34m()\u001b[0m\n\u001b[1;32m      1\u001b[0m \u001b[0;32mdef\u001b[0m \u001b[0mspam\u001b[0m\u001b[0;34m(\u001b[0m\u001b[0;34m)\u001b[0m\u001b[0;34m:\u001b[0m\u001b[0;34m\u001b[0m\u001b[0m\n\u001b[0;32m----> 2\u001b[0;31m     \u001b[0mbac\u001b[0m\u001b[0;34m(\u001b[0m\u001b[0;34m)\u001b[0m\u001b[0;34m\u001b[0m\u001b[0m\n\u001b[0m\u001b[1;32m      3\u001b[0m \u001b[0;32mdef\u001b[0m \u001b[0mbac\u001b[0m\u001b[0;34m(\u001b[0m\u001b[0;34m)\u001b[0m\u001b[0;34m:\u001b[0m\u001b[0;34m\u001b[0m\u001b[0m\n\u001b[1;32m      4\u001b[0m     \u001b[0;32mraise\u001b[0m \u001b[0mException\u001b[0m\u001b[0;34m(\u001b[0m\u001b[0;34m'This is an error msg'\u001b[0m\u001b[0;34m)\u001b[0m\u001b[0;34m\u001b[0m\u001b[0m\n\u001b[1;32m      5\u001b[0m \u001b[0mspam\u001b[0m\u001b[0;34m(\u001b[0m\u001b[0;34m)\u001b[0m\u001b[0;34m\u001b[0m\u001b[0m\n",
      "\u001b[0;32m<ipython-input-4-56ecd682a20a>\u001b[0m in \u001b[0;36mbac\u001b[0;34m()\u001b[0m\n\u001b[1;32m      2\u001b[0m     \u001b[0mbac\u001b[0m\u001b[0;34m(\u001b[0m\u001b[0;34m)\u001b[0m\u001b[0;34m\u001b[0m\u001b[0m\n\u001b[1;32m      3\u001b[0m \u001b[0;32mdef\u001b[0m \u001b[0mbac\u001b[0m\u001b[0;34m(\u001b[0m\u001b[0;34m)\u001b[0m\u001b[0;34m:\u001b[0m\u001b[0;34m\u001b[0m\u001b[0m\n\u001b[0;32m----> 4\u001b[0;31m     \u001b[0;32mraise\u001b[0m \u001b[0mException\u001b[0m\u001b[0;34m(\u001b[0m\u001b[0;34m'This is an error msg'\u001b[0m\u001b[0;34m)\u001b[0m\u001b[0;34m\u001b[0m\u001b[0m\n\u001b[0m\u001b[1;32m      5\u001b[0m \u001b[0mspam\u001b[0m\u001b[0;34m(\u001b[0m\u001b[0;34m)\u001b[0m\u001b[0;34m\u001b[0m\u001b[0m\n",
      "\u001b[0;31mException\u001b[0m: This is an error msg"
     ]
    }
   ],
   "source": [
    "def spam():\n",
    "    bac()\n",
    "def bac():\n",
    "    raise Exception('This is an error msg')\n",
    "spam()"
   ]
  },
  {
   "cell_type": "markdown",
   "metadata": {},
   "source": [
    "write the traceback in a file"
   ]
  },
  {
   "cell_type": "code",
   "execution_count": 6,
   "metadata": {},
   "outputs": [
    {
     "name": "stdout",
     "output_type": "stream",
     "text": [
      "The traceback info was written to error Info.txt\n"
     ]
    }
   ],
   "source": [
    "import traceback\n",
    "try:\n",
    "    raise Exception('This is an error message')\n",
    "except:\n",
    "    errorFile = open('errorInfo.txt', 'w')\n",
    "    errorFile.write(traceback.format_exc())\n",
    "    errorFile.close()\n",
    "    print('The traceback info was written to error Info.txt')\n",
    "    \n",
    "\n"
   ]
  },
  {
   "cell_type": "code",
   "execution_count": null,
   "metadata": {},
   "outputs": [],
   "source": []
  },
  {
   "cell_type": "markdown",
   "metadata": {},
   "source": [
    "<h4>assertions </h4>"
   ]
  },
  {
   "cell_type": "code",
   "execution_count": null,
   "metadata": {},
   "outputs": [],
   "source": []
  },
  {
   "cell_type": "code",
   "execution_count": 17,
   "metadata": {},
   "outputs": [
    {
     "ename": "AssertionError",
     "evalue": "Neither light is red! {'ns': 'yellow', 'ew': 'green'}",
     "output_type": "error",
     "traceback": [
      "\u001b[0;31m---------------------------------------------------------------------------\u001b[0m",
      "\u001b[0;31mAssertionError\u001b[0m                            Traceback (most recent call last)",
      "\u001b[0;32m<ipython-input-17-2472caafec44>\u001b[0m in \u001b[0;36m<module>\u001b[0;34m()\u001b[0m\n\u001b[1;32m     12\u001b[0m         \u001b[0;32massert\u001b[0m \u001b[0;34m'red'\u001b[0m \u001b[0;32min\u001b[0m \u001b[0mstoplight\u001b[0m\u001b[0;34m.\u001b[0m\u001b[0mvalues\u001b[0m\u001b[0;34m(\u001b[0m\u001b[0;34m)\u001b[0m\u001b[0;34m,\u001b[0m \u001b[0;34m'Neither light is red! '\u001b[0m \u001b[0;34m+\u001b[0m \u001b[0mstr\u001b[0m\u001b[0;34m(\u001b[0m\u001b[0mstoplight\u001b[0m\u001b[0;34m)\u001b[0m\u001b[0;34m\u001b[0m\u001b[0m\n\u001b[1;32m     13\u001b[0m \u001b[0;34m\u001b[0m\u001b[0m\n\u001b[0;32m---> 14\u001b[0;31m \u001b[0mswitchLights\u001b[0m\u001b[0;34m(\u001b[0m\u001b[0mmarket_2nd\u001b[0m\u001b[0;34m)\u001b[0m\u001b[0;34m\u001b[0m\u001b[0m\n\u001b[0m",
      "\u001b[0;32m<ipython-input-17-2472caafec44>\u001b[0m in \u001b[0;36mswitchLights\u001b[0;34m(stoplight)\u001b[0m\n\u001b[1;32m     10\u001b[0m         \u001b[0;32melif\u001b[0m \u001b[0mstoplight\u001b[0m\u001b[0;34m[\u001b[0m\u001b[0mkey\u001b[0m\u001b[0;34m]\u001b[0m \u001b[0;34m==\u001b[0m \u001b[0;34m'red'\u001b[0m\u001b[0;34m:\u001b[0m\u001b[0;34m\u001b[0m\u001b[0m\n\u001b[1;32m     11\u001b[0m             \u001b[0mstoplight\u001b[0m\u001b[0;34m[\u001b[0m\u001b[0mkey\u001b[0m\u001b[0;34m]\u001b[0m \u001b[0;34m=\u001b[0m \u001b[0;34m'green'\u001b[0m\u001b[0;34m\u001b[0m\u001b[0m\n\u001b[0;32m---> 12\u001b[0;31m         \u001b[0;32massert\u001b[0m \u001b[0;34m'red'\u001b[0m \u001b[0;32min\u001b[0m \u001b[0mstoplight\u001b[0m\u001b[0;34m.\u001b[0m\u001b[0mvalues\u001b[0m\u001b[0;34m(\u001b[0m\u001b[0;34m)\u001b[0m\u001b[0;34m,\u001b[0m \u001b[0;34m'Neither light is red! '\u001b[0m \u001b[0;34m+\u001b[0m \u001b[0mstr\u001b[0m\u001b[0;34m(\u001b[0m\u001b[0mstoplight\u001b[0m\u001b[0;34m)\u001b[0m\u001b[0;34m\u001b[0m\u001b[0m\n\u001b[0m\u001b[1;32m     13\u001b[0m \u001b[0;34m\u001b[0m\u001b[0m\n\u001b[1;32m     14\u001b[0m \u001b[0mswitchLights\u001b[0m\u001b[0;34m(\u001b[0m\u001b[0mmarket_2nd\u001b[0m\u001b[0;34m)\u001b[0m\u001b[0;34m\u001b[0m\u001b[0m\n",
      "\u001b[0;31mAssertionError\u001b[0m: Neither light is red! {'ns': 'yellow', 'ew': 'green'}"
     ]
    }
   ],
   "source": [
    "market_2nd = {'ns': 'green', 'ew': 'red'}\n",
    "mission_16th = {'ns': 'red', 'ew': 'green'}\n",
    "\n",
    "def switchLights(stoplight):\n",
    "    for key in stoplight.keys():\n",
    "        if stoplight[key] == 'green':\n",
    "            stoplight[key] = 'yellow'\n",
    "        elif stoplight[key] == 'yellow':\n",
    "            stoplight[key] = 'red'\n",
    "        elif stoplight[key] == 'red':\n",
    "            stoplight[key] = 'green'\n",
    "        assert 'red' in stoplight.values(), 'Neither light is red! ' + str(stoplight)\n",
    "    \n",
    "switchLights(market_2nd)\n",
    "\n"
   ]
  },
  {
   "cell_type": "markdown",
   "metadata": {},
   "source": [
    "Assertions can be disabled by passing the -O option when running Python."
   ]
  },
  {
   "cell_type": "code",
   "execution_count": null,
   "metadata": {},
   "outputs": [],
   "source": []
  },
  {
   "cell_type": "markdown",
   "metadata": {},
   "source": [
    "<h3> Logging </h3>"
   ]
  },
  {
   "cell_type": "code",
   "execution_count": null,
   "metadata": {},
   "outputs": [],
   "source": []
  },
  {
   "cell_type": "code",
   "execution_count": 24,
   "metadata": {},
   "outputs": [
    {
     "name": "stderr",
     "output_type": "stream",
     "text": [
      " 2019-06-10 23:04:41,131 -DEBUG- Start of program\n",
      " 2019-06-10 23:04:41,132 -DEBUG- Start of factorial(5%)\n",
      " 2019-06-10 23:04:41,134 -DEBUG- i is 1, total is 1\n",
      " 2019-06-10 23:04:41,136 -DEBUG- i is 2, total is 2\n",
      " 2019-06-10 23:04:41,136 -DEBUG- i is 3, total is 6\n",
      " 2019-06-10 23:04:41,137 -DEBUG- i is 4, total is 24\n",
      " 2019-06-10 23:04:41,138 -DEBUG- i is 5, total is 120\n",
      " 2019-06-10 23:04:41,138 -DEBUG- End of factorial(5%)\n",
      " 2019-06-10 23:04:41,139 -DEBUG- End of program\n"
     ]
    },
    {
     "name": "stdout",
     "output_type": "stream",
     "text": [
      "120\n"
     ]
    }
   ],
   "source": [
    "import logging\n",
    "logging.basicConfig(level=logging.DEBUG, format=' %(asctime)s -%(levelname)s- %(message)s')\n",
    "logging.debug('Start of program')\n",
    "\n",
    "def factorial(n):\n",
    "    logging.debug('Start of factorial(%s%%)' % (n))\n",
    "    total = 1\n",
    "    #for i in range(n + 1):\n",
    "    for i in range (1 , n+1):\n",
    "        total *= i\n",
    "        logging.debug('i is ' + str(i) + ', total is ' + str(total))\n",
    "    logging.debug('End of factorial(%s%%)' % (n))\n",
    "    return total\n",
    "print(factorial(5))\n",
    "logging.debug('End of program')"
   ]
  },
  {
   "cell_type": "code",
   "execution_count": null,
   "metadata": {},
   "outputs": [],
   "source": []
  },
  {
   "cell_type": "code",
   "execution_count": null,
   "metadata": {},
   "outputs": [],
   "source": []
  },
  {
   "cell_type": "code",
   "execution_count": null,
   "metadata": {},
   "outputs": [],
   "source": []
  },
  {
   "cell_type": "markdown",
   "metadata": {},
   "source": [
    "<h2>11.  Web scrapping </h2>"
   ]
  },
  {
   "cell_type": "markdown",
   "metadata": {},
   "source": [
    "<h3> webbrowser module </h3>"
   ]
  },
  {
   "cell_type": "code",
   "execution_count": 2,
   "metadata": {},
   "outputs": [],
   "source": [
    "#! python3\n",
    "# mapIt.py - Launches a map in the browser using an address from the\n",
    "# command line or clipboard.\n",
    "import webbrowser, sys\n",
    "if len(sys.argv) > 1:\n",
    "# Get address from command line.\n",
    "    address = ' '.join(sys.argv[1:])\n",
    "# TODO: Get address from clipboard."
   ]
  },
  {
   "cell_type": "code",
   "execution_count": null,
   "metadata": {},
   "outputs": [],
   "source": []
  },
  {
   "cell_type": "code",
   "execution_count": null,
   "metadata": {},
   "outputs": [],
   "source": []
  },
  {
   "cell_type": "markdown",
   "metadata": {},
   "source": [
    "<h3> request module, downloading files from the web </h3>"
   ]
  },
  {
   "cell_type": "code",
   "execution_count": null,
   "metadata": {},
   "outputs": [],
   "source": []
  },
  {
   "cell_type": "code",
   "execution_count": null,
   "metadata": {},
   "outputs": [],
   "source": []
  },
  {
   "cell_type": "code",
   "execution_count": 10,
   "metadata": {},
   "outputs": [
    {
     "name": "stdout",
     "output_type": "stream",
     "text": [
      "<class 'requests.models.Response'>\n",
      "True\n",
      "len : 178978\n",
      "The Project Gutenberg EBook of Romeo and Juliet, by William Shakespeare\r\n",
      "\r\n",
      "This eBook is for the use of anyone anywhere at no cost and with\r\n",
      "almost no restrictions whatsoever.  You may copy it, give it away or\r\n",
      "re-use it under the terms of the Projec\n"
     ]
    }
   ],
   "source": [
    "import requests\n",
    "res = requests.get('https://automatetheboringstuff.com/files/rj.txt')\n",
    "print(type(res))\n",
    "print(res.status_code ==requests.codes.ok)\n",
    "print(\"len : {:}\".format(len(res.text)))\n",
    "      \n",
    "\n",
    "print(res.text[:250])"
   ]
  },
  {
   "cell_type": "markdown",
   "metadata": {},
   "source": [
    "write the web in a file "
   ]
  },
  {
   "cell_type": "code",
   "execution_count": 11,
   "metadata": {},
   "outputs": [],
   "source": [
    "\n",
    "import requests\n",
    "res = requests.get('https://automatetheboringstuff.com/files/rj.txt')\n",
    "res.raise_for_status()\n",
    "playFile= open('RomeoAndJuliet.txt', 'wb')\n",
    "for chunk in res.iter_content(100000):\n",
    "    playFile.write(chunk)\n",
    "playFile.close()\n"
   ]
  },
  {
   "cell_type": "code",
   "execution_count": null,
   "metadata": {},
   "outputs": [],
   "source": []
  },
  {
   "cell_type": "markdown",
   "metadata": {},
   "source": [
    "<h3> Beautiful Soup</h3>"
   ]
  },
  {
   "cell_type": "code",
   "execution_count": null,
   "metadata": {},
   "outputs": [],
   "source": []
  },
  {
   "cell_type": "code",
   "execution_count": 16,
   "metadata": {},
   "outputs": [
    {
     "name": "stderr",
     "output_type": "stream",
     "text": [
      "/home/dan/anaconda3/lib/python3.6/site-packages/bs4/__init__.py:181: UserWarning: No parser was explicitly specified, so I'm using the best available HTML parser for this system (\"lxml\"). This usually isn't a problem, but if you run this code on another system, or in a different virtual environment, it may use a different parser and behave differently.\n",
      "\n",
      "The code that caused this warning is on line 193 of the file /home/dan/anaconda3/lib/python3.6/runpy.py. To get rid of this warning, change code that looks like this:\n",
      "\n",
      " BeautifulSoup(YOUR_MARKUP})\n",
      "\n",
      "to this:\n",
      "\n",
      " BeautifulSoup(YOUR_MARKUP, \"lxml\")\n",
      "\n",
      "  markup_type=markup_type))\n"
     ]
    },
    {
     "data": {
      "text/plain": [
       "bs4.BeautifulSoup"
      ]
     },
     "execution_count": 16,
     "metadata": {},
     "output_type": "execute_result"
    }
   ],
   "source": [
    "import requests, bs4\n",
    "res= requests.get('http://nostarch.com')\n",
    "res.raise_for_status()\n",
    "bsoo= bs4.BeautifulSoup(res.text)\n",
    "type(bsoo)"
   ]
  },
  {
   "cell_type": "code",
   "execution_count": null,
   "metadata": {},
   "outputs": [],
   "source": []
  },
  {
   "cell_type": "code",
   "execution_count": 6,
   "metadata": {},
   "outputs": [
    {
     "name": "stderr",
     "output_type": "stream",
     "text": [
      "/home/dan/anaconda3/lib/python3.6/site-packages/bs4/__init__.py:181: UserWarning: No parser was explicitly specified, so I'm using the best available HTML parser for this system (\"lxml\"). This usually isn't a problem, but if you run this code on another system, or in a different virtual environment, it may use a different parser and behave differently.\n",
      "\n",
      "The code that caused this warning is on line 193 of the file /home/dan/anaconda3/lib/python3.6/runpy.py. To get rid of this warning, change code that looks like this:\n",
      "\n",
      " BeautifulSoup(YOUR_MARKUP})\n",
      "\n",
      "to this:\n",
      "\n",
      " BeautifulSoup(YOUR_MARKUP, \"lxml\")\n",
      "\n",
      "  markup_type=markup_type))\n"
     ]
    },
    {
     "data": {
      "text/plain": [
       "bs4.BeautifulSoup"
      ]
     },
     "execution_count": 6,
     "metadata": {},
     "output_type": "execute_result"
    }
   ],
   "source": [
    "exampleFile= open('example.html')\n",
    "bso= bs4.BeautifulSoup(exampleFile)\n",
    "type(bso)"
   ]
  },
  {
   "cell_type": "code",
   "execution_count": 9,
   "metadata": {},
   "outputs": [
    {
     "data": {
      "text/plain": [
       "[<a href=\"http://\n",
       " inventwithpython.com\">my website</a>]"
      ]
     },
     "execution_count": 9,
     "metadata": {},
     "output_type": "execute_result"
    }
   ],
   "source": [
    "#all the elements named <div>\n",
    "bso.select('a')"
   ]
  },
  {
   "cell_type": "code",
   "execution_count": 11,
   "metadata": {},
   "outputs": [
    {
     "data": {
      "text/plain": [
       "[<span id=\"author\">Al Sweigart</span>]"
      ]
     },
     "execution_count": 11,
     "metadata": {},
     "output_type": "execute_result"
    }
   ],
   "source": [
    "# element with id #author\n",
    "bso.select('#author')"
   ]
  },
  {
   "cell_type": "code",
   "execution_count": 13,
   "metadata": {},
   "outputs": [
    {
     "data": {
      "text/plain": [
       "[<p class=\"slogan\">Learn Python the easy way!</p>]"
      ]
     },
     "execution_count": 13,
     "metadata": {},
     "output_type": "execute_result"
    }
   ],
   "source": [
    "#CSS class attribute .slogan\n",
    "bso.select('.slogan')"
   ]
  },
  {
   "cell_type": "code",
   "execution_count": 14,
   "metadata": {},
   "outputs": [
    {
     "data": {
      "text/plain": [
       "[<strong>Python</strong>]"
      ]
     },
     "execution_count": 14,
     "metadata": {},
     "output_type": "execute_result"
    }
   ],
   "source": [
    "#strong elements within p\n",
    "bso.select('p strong')"
   ]
  },
  {
   "cell_type": "code",
   "execution_count": 23,
   "metadata": {},
   "outputs": [
    {
     "data": {
      "text/plain": [
       "[<strong>Python</strong>]"
      ]
     },
     "execution_count": 23,
     "metadata": {},
     "output_type": "execute_result"
    }
   ],
   "source": [
    "#strong elements directly within p\n",
    "bso.select('p > strong')"
   ]
  },
  {
   "cell_type": "code",
   "execution_count": 25,
   "metadata": {},
   "outputs": [
    {
     "data": {
      "text/plain": [
       "[<input class=\"form-control form-text\" id=\"edit-search-block-form--2\" maxlength=\"128\" name=\"search_block_form\" placeholder=\"Search\" size=\"15\" title=\"Enter the terms you wish to search for.\" type=\"text\" value=\"\"/>,\n",
       " <input name=\"form_build_id\" type=\"hidden\" value=\"form-GJe6529LymybFIVNOXDrM0Drocd2OvguwhkYeVQ8sec\"/>,\n",
       " <input name=\"form_id\" type=\"hidden\" value=\"search_block_form\"/>,\n",
       " <input class=\"form-control form-text\" id=\"edit-search-block-form--2\" maxlength=\"128\" name=\"search_block_form\" placeholder=\"Search\" size=\"15\" title=\"Enter the terms you wish to search for.\" type=\"text\" value=\"\"/>,\n",
       " <input name=\"form_build_id\" type=\"hidden\" value=\"form-GJe6529LymybFIVNOXDrM0Drocd2OvguwhkYeVQ8sec\"/>,\n",
       " <input name=\"form_id\" type=\"hidden\" value=\"search_block_form\"/>]"
      ]
     },
     "execution_count": 25,
     "metadata": {},
     "output_type": "execute_result"
    }
   ],
   "source": [
    "#all elements named <input> having attr name\n",
    "bsoo.select('input[name]')"
   ]
  },
  {
   "cell_type": "code",
   "execution_count": 26,
   "metadata": {},
   "outputs": [
    {
     "data": {
      "text/plain": [
       "[<span id=\"author\">Al Sweigart</span>]"
      ]
     },
     "execution_count": 26,
     "metadata": {},
     "output_type": "execute_result"
    }
   ],
   "source": [
    "bso.select('span[id]')"
   ]
  },
  {
   "cell_type": "code",
   "execution_count": 30,
   "metadata": {},
   "outputs": [
    {
     "data": {
      "text/plain": [
       "[<input name=\"form_build_id\" type=\"hidden\" value=\"form-GJe6529LymybFIVNOXDrM0Drocd2OvguwhkYeVQ8sec\"/>,\n",
       " <input name=\"form_id\" type=\"hidden\" value=\"search_block_form\"/>,\n",
       " <input name=\"form_build_id\" type=\"hidden\" value=\"form-GJe6529LymybFIVNOXDrM0Drocd2OvguwhkYeVQ8sec\"/>,\n",
       " <input name=\"form_id\" type=\"hidden\" value=\"search_block_form\"/>]"
      ]
     },
     "execution_count": 30,
     "metadata": {},
     "output_type": "execute_result"
    }
   ],
   "source": [
    "#all elements named <input> having attr type, value hidden :type=\"hidden\"\n",
    "bsoo.select('input[type=\"hidden\"]')"
   ]
  },
  {
   "cell_type": "code",
   "execution_count": null,
   "metadata": {},
   "outputs": [],
   "source": []
  },
  {
   "cell_type": "markdown",
   "metadata": {},
   "source": [
    "getting data from an Element's attributes   249"
   ]
  },
  {
   "cell_type": "code",
   "execution_count": 12,
   "metadata": {},
   "outputs": [
    {
     "name": "stdout",
     "output_type": "stream",
     "text": [
      "<span id=\"author\">Al Sweigart</span>\n",
      "Al Sweigart\n",
      "get data from the attributes  .get('id')\n",
      "author\n",
      "all the attributes ith sspanElem.attrs\n",
      "{'id': 'author'}\n"
     ]
    },
    {
     "name": "stderr",
     "output_type": "stream",
     "text": [
      "/home/dan/anaconda3/lib/python3.6/site-packages/bs4/__init__.py:181: UserWarning: No parser was explicitly specified, so I'm using the best available HTML parser for this system (\"lxml\"). This usually isn't a problem, but if you run this code on another system, or in a different virtual environment, it may use a different parser and behave differently.\n",
      "\n",
      "The code that caused this warning is on line 193 of the file /home/dan/anaconda3/lib/python3.6/runpy.py. To get rid of this warning, change code that looks like this:\n",
      "\n",
      " BeautifulSoup(YOUR_MARKUP})\n",
      "\n",
      "to this:\n",
      "\n",
      " BeautifulSoup(YOUR_MARKUP, \"lxml\")\n",
      "\n",
      "  markup_type=markup_type))\n"
     ]
    }
   ],
   "source": [
    "import bs4\n",
    "htmlFile = open('example.html')\n",
    "bso2= bs4.BeautifulSoup(htmlFile)\n",
    "\n",
    "spanElem = bso2.select('span')[0]\n",
    "print(spanElem)\n",
    "print(spanElem.text)\n",
    "print(\"get data from the attributes  .get('id')\")\n",
    "print(spanElem['id'])\n",
    "print(\"all the attributes ith sspanElem.attrs\")\n",
    "print(spanElem.attrs)"
   ]
  },
  {
   "cell_type": "code",
   "execution_count": null,
   "metadata": {},
   "outputs": [],
   "source": []
  },
  {
   "cell_type": "code",
   "execution_count": null,
   "metadata": {},
   "outputs": [],
   "source": []
  },
  {
   "cell_type": "code",
   "execution_count": null,
   "metadata": {},
   "outputs": [],
   "source": []
  },
  {
   "cell_type": "code",
   "execution_count": null,
   "metadata": {},
   "outputs": [],
   "source": []
  },
  {
   "cell_type": "code",
   "execution_count": null,
   "metadata": {},
   "outputs": [],
   "source": []
  },
  {
   "cell_type": "code",
   "execution_count": 34,
   "metadata": {},
   "outputs": [
    {
     "name": "stdout",
     "output_type": "stream",
     "text": [
      "Googling...\n"
     ]
    },
    {
     "name": "stderr",
     "output_type": "stream",
     "text": [
      "/home/dan/anaconda3/lib/python3.6/site-packages/bs4/__init__.py:181: UserWarning: No parser was explicitly specified, so I'm using the best available HTML parser for this system (\"lxml\"). This usually isn't a problem, but if you run this code on another system, or in a different virtual environment, it may use a different parser and behave differently.\n",
      "\n",
      "The code that caused this warning is on line 193 of the file /home/dan/anaconda3/lib/python3.6/runpy.py. To get rid of this warning, change code that looks like this:\n",
      "\n",
      " BeautifulSoup(YOUR_MARKUP})\n",
      "\n",
      "to this:\n",
      "\n",
      " BeautifulSoup(YOUR_MARKUP, \"lxml\")\n",
      "\n",
      "  markup_type=markup_type))\n"
     ]
    }
   ],
   "source": [
    "#! python3\n",
    "# lucky.py - Opens several google search results.\n",
    "import requests, sys, webbrowser, bs4\n",
    "\n",
    "\n",
    "print('Googling...')\n",
    "# display text while downloading the Google page\n",
    "res = requests.get('http://google.com/search?q=' + ' '.join(sys.argv[1:]))\n",
    "res.raise_for_status()\n",
    "\n",
    "soup = bs4.BeautifulSoup(res.text)\n",
    "\n",
    "# Open a browser tab for each result.\n",
    "linkElems = soup.select('.r a')\n",
    "numOpen = min(5, len(linkElems))\n",
    "for i in range(numOpen):\n",
    "    webbrowser.open('http://google.com' + linkElems[i].get('href'))"
   ]
  },
  {
   "cell_type": "code",
   "execution_count": null,
   "metadata": {},
   "outputs": [],
   "source": []
  },
  {
   "cell_type": "code",
   "execution_count": 37,
   "metadata": {},
   "outputs": [
    {
     "data": {
      "text/plain": [
       "'<p>Download my <strong>Python</strong> book from <a href=\"http://\\ninventwithpython.com\">my website</a>.</p>'"
      ]
     },
     "execution_count": 37,
     "metadata": {},
     "output_type": "execute_result"
    }
   ],
   "source": [
    "pElems = bso.select('p')\n",
    "str(pElems[0])"
   ]
  },
  {
   "cell_type": "code",
   "execution_count": 38,
   "metadata": {},
   "outputs": [
    {
     "data": {
      "text/plain": [
       "'Download my Python book from my website.'"
      ]
     },
     "execution_count": 38,
     "metadata": {},
     "output_type": "execute_result"
    }
   ],
   "source": [
    "pElems[0].text"
   ]
  },
  {
   "cell_type": "markdown",
   "metadata": {},
   "source": [
    "<h4> an example/ practice </h4>"
   ]
  },
  {
   "cell_type": "code",
   "execution_count": 58,
   "metadata": {},
   "outputs": [
    {
     "name": "stderr",
     "output_type": "stream",
     "text": [
      "/home/dan/anaconda3/lib/python3.6/site-packages/bs4/__init__.py:181: UserWarning: No parser was explicitly specified, so I'm using the best available HTML parser for this system (\"lxml\"). This usually isn't a problem, but if you run this code on another system, or in a different virtual environment, it may use a different parser and behave differently.\n",
      "\n",
      "The code that caused this warning is on line 193 of the file /home/dan/anaconda3/lib/python3.6/runpy.py. To get rid of this warning, change code that looks like this:\n",
      "\n",
      " BeautifulSoup(YOUR_MARKUP})\n",
      "\n",
      "to this:\n",
      "\n",
      " BeautifulSoup(YOUR_MARKUP, \"lxml\")\n",
      "\n",
      "  markup_type=markup_type))\n"
     ]
    },
    {
     "name": "stdout",
     "output_type": "stream",
     "text": [
      "662\n",
      "Paris\n",
      "LOOK FOR COMMON LINKS\n"
     ]
    },
    {
     "data": {
      "text/plain": [
       "['Donate to Wikipedia',\n",
       " '한국어',\n",
       " 'Authority control',\n",
       " 'Wikipedia articles with LCCN identifiers',\n",
       " 'Wikipedia articles with VIAF identifiers',\n",
       " 'Community portal']"
      ]
     },
     "execution_count": 58,
     "metadata": {},
     "output_type": "execute_result"
    }
   ],
   "source": [
    "import requests, bs4\n",
    "res = requests.get('https://en.wikipedia.org/wiki/Fernando_Sor')\n",
    "res.raise_for_status()\n",
    "bsor= bs4.BeautifulSoup(res.text)\n",
    "bsor_a = bsor('a')\n",
    "print(len(bsor_a))\n",
    "for link in bsor_a[5:10]:\n",
    "    if link.text.find(\"Paris\")>-1:\n",
    "        print((link.text))\n",
    "textLinks=[]\n",
    "for link in bsor_a:\n",
    "    textLinks.append(link.text)\n",
    "res1= requests.get('https://en.wikipedia.org/wiki/Francisco_T%C3%A1rrega')\n",
    "bstarrega= bs4.BeautifulSoup(res1.text)\n",
    "print(\"LOOK FOR COMMON LINKS\")\n",
    "btarrega_a = bstarrega('a')\n",
    "textLinksTa = []\n",
    "for link in btarrega_a:\n",
    "    textLinksTa.append(link.text)\n",
    "common = set(textLinks).intersection(set(textLinksTa))\n",
    "len(common)\n",
    "type(common)\n",
    "list(common)[4:10]"
   ]
  },
  {
   "cell_type": "code",
   "execution_count": 33,
   "metadata": {},
   "outputs": [
    {
     "data": {
      "text/plain": [
       "True"
      ]
     },
     "execution_count": 33,
     "metadata": {},
     "output_type": "execute_result"
    }
   ],
   "source": []
  },
  {
   "cell_type": "code",
   "execution_count": null,
   "metadata": {},
   "outputs": [],
   "source": []
  },
  {
   "cell_type": "markdown",
   "metadata": {},
   "source": [
    "<h3> Selenium </h3>"
   ]
  },
  {
   "cell_type": "code",
   "execution_count": 62,
   "metadata": {},
   "outputs": [
    {
     "name": "stdout",
     "output_type": "stream",
     "text": [
      "Collecting selenium\n",
      "\u001b[?25l  Downloading https://files.pythonhosted.org/packages/80/d6/4294f0b4bce4de0abf13e17190289f9d0613b0a44e5dd6a7f5ca98459853/selenium-3.141.0-py2.py3-none-any.whl (904kB)\n",
      "\u001b[K    100% |████████████████████████████████| 911kB 17.5MB/s ta 0:00:01\n",
      "\u001b[?25hRequirement already satisfied: urllib3 in /home/dan/anaconda3/lib/python3.6/site-packages (from selenium) (1.22)\n",
      "Installing collected packages: selenium\n",
      "Successfully installed selenium-3.141.0\n"
     ]
    }
   ],
   "source": [
    "#!pip3 install selenium"
   ]
  },
  {
   "cell_type": "code",
   "execution_count": 2,
   "metadata": {},
   "outputs": [],
   "source": [
    "from selenium import webdriver\n",
    "browser = webdriver.Firefox()\n",
    "type(browser)\n",
    "browser.get('http://inventwithpython.com')"
   ]
  },
  {
   "cell_type": "code",
   "execution_count": null,
   "metadata": {},
   "outputs": [],
   "source": []
  },
  {
   "cell_type": "markdown",
   "metadata": {},
   "source": [
    "`find_element_*    find_elements_*` methods"
   ]
  },
  {
   "cell_type": "markdown",
   "metadata": {},
   "source": [
    "*\n",
    "\n",
    "`by_class_name\n",
    "by_css_selector\n",
    "by_id\n",
    "by link_text\n",
    "by_partial_link\n",
    "by _name\n",
    "by_tag_name`"
   ]
  },
  {
   "cell_type": "code",
   "execution_count": null,
   "metadata": {},
   "outputs": [],
   "source": [
    "\n"
   ]
  },
  {
   "cell_type": "markdown",
   "metadata": {},
   "source": [
    "Web Attributes  and Methods\n",
    "\n",
    "`tag_name\n",
    "get_attribute(name)\n",
    "text\n",
    "clear()\n",
    "is_displayed()\n",
    "is_enables()\n",
    "is_selected()\n",
    "location`\n"
   ]
  },
  {
   "cell_type": "code",
   "execution_count": 11,
   "metadata": {},
   "outputs": [
    {
     "name": "stdout",
     "output_type": "stream",
     "text": [
      "Was not able to find an element with that name.\n"
     ]
    },
    {
     "ename": "NoSuchElementException",
     "evalue": "Message: Unable to locate element: Invent Your Own Computer Games with Python\n",
     "output_type": "error",
     "traceback": [
      "\u001b[0;31m---------------------------------------------------------------------------\u001b[0m",
      "\u001b[0;31mNoSuchElementException\u001b[0m                    Traceback (most recent call last)",
      "\u001b[0;32m<ipython-input-11-df7694fe630b>\u001b[0m in \u001b[0;36m<module>\u001b[0;34m()\u001b[0m\n\u001b[1;32m      4\u001b[0m \u001b[0;32mtry\u001b[0m\u001b[0;34m:\u001b[0m\u001b[0;34m\u001b[0m\u001b[0m\n\u001b[0;32m----> 5\u001b[0;31m     \u001b[0melem\u001b[0m \u001b[0;34m=\u001b[0m \u001b[0mbrowser\u001b[0m\u001b[0;34m.\u001b[0m\u001b[0mfind_element_by_class_name\u001b[0m\u001b[0;34m(\u001b[0m\u001b[0;34m\"card-img-top cover-thumb\"\u001b[0m\u001b[0;34m)\u001b[0m\u001b[0;34m\u001b[0m\u001b[0m\n\u001b[0m\u001b[1;32m      6\u001b[0m     \u001b[0mprint\u001b[0m\u001b[0;34m(\u001b[0m\u001b[0;34m'Found <%s> element with that class name!'\u001b[0m \u001b[0;34m%\u001b[0m \u001b[0;34m(\u001b[0m\u001b[0melem\u001b[0m\u001b[0;34m.\u001b[0m\u001b[0mtag_name\u001b[0m\u001b[0;34m)\u001b[0m\u001b[0;34m)\u001b[0m\u001b[0;34m\u001b[0m\u001b[0m\n",
      "\u001b[0;32m~/anaconda3/lib/python3.6/site-packages/selenium/webdriver/remote/webdriver.py\u001b[0m in \u001b[0;36mfind_element_by_class_name\u001b[0;34m(self, name)\u001b[0m\n\u001b[1;32m    563\u001b[0m         \"\"\"\n\u001b[0;32m--> 564\u001b[0;31m         \u001b[0;32mreturn\u001b[0m \u001b[0mself\u001b[0m\u001b[0;34m.\u001b[0m\u001b[0mfind_element\u001b[0m\u001b[0;34m(\u001b[0m\u001b[0mby\u001b[0m\u001b[0;34m=\u001b[0m\u001b[0mBy\u001b[0m\u001b[0;34m.\u001b[0m\u001b[0mCLASS_NAME\u001b[0m\u001b[0;34m,\u001b[0m \u001b[0mvalue\u001b[0m\u001b[0;34m=\u001b[0m\u001b[0mname\u001b[0m\u001b[0;34m)\u001b[0m\u001b[0;34m\u001b[0m\u001b[0m\n\u001b[0m\u001b[1;32m    565\u001b[0m \u001b[0;34m\u001b[0m\u001b[0m\n",
      "\u001b[0;32m~/anaconda3/lib/python3.6/site-packages/selenium/webdriver/remote/webdriver.py\u001b[0m in \u001b[0;36mfind_element\u001b[0;34m(self, by, value)\u001b[0m\n\u001b[1;32m    977\u001b[0m             \u001b[0;34m'using'\u001b[0m\u001b[0;34m:\u001b[0m \u001b[0mby\u001b[0m\u001b[0;34m,\u001b[0m\u001b[0;34m\u001b[0m\u001b[0m\n\u001b[0;32m--> 978\u001b[0;31m             'value': value})['value']\n\u001b[0m\u001b[1;32m    979\u001b[0m \u001b[0;34m\u001b[0m\u001b[0m\n",
      "\u001b[0;32m~/anaconda3/lib/python3.6/site-packages/selenium/webdriver/remote/webdriver.py\u001b[0m in \u001b[0;36mexecute\u001b[0;34m(self, driver_command, params)\u001b[0m\n\u001b[1;32m    320\u001b[0m         \u001b[0;32mif\u001b[0m \u001b[0mresponse\u001b[0m\u001b[0;34m:\u001b[0m\u001b[0;34m\u001b[0m\u001b[0m\n\u001b[0;32m--> 321\u001b[0;31m             \u001b[0mself\u001b[0m\u001b[0;34m.\u001b[0m\u001b[0merror_handler\u001b[0m\u001b[0;34m.\u001b[0m\u001b[0mcheck_response\u001b[0m\u001b[0;34m(\u001b[0m\u001b[0mresponse\u001b[0m\u001b[0;34m)\u001b[0m\u001b[0;34m\u001b[0m\u001b[0m\n\u001b[0m\u001b[1;32m    322\u001b[0m             response['value'] = self._unwrap_value(\n",
      "\u001b[0;32m~/anaconda3/lib/python3.6/site-packages/selenium/webdriver/remote/errorhandler.py\u001b[0m in \u001b[0;36mcheck_response\u001b[0;34m(self, response)\u001b[0m\n\u001b[1;32m    241\u001b[0m             \u001b[0;32mraise\u001b[0m \u001b[0mexception_class\u001b[0m\u001b[0;34m(\u001b[0m\u001b[0mmessage\u001b[0m\u001b[0;34m,\u001b[0m \u001b[0mscreen\u001b[0m\u001b[0;34m,\u001b[0m \u001b[0mstacktrace\u001b[0m\u001b[0;34m,\u001b[0m \u001b[0malert_text\u001b[0m\u001b[0;34m)\u001b[0m\u001b[0;34m\u001b[0m\u001b[0m\n\u001b[0;32m--> 242\u001b[0;31m         \u001b[0;32mraise\u001b[0m \u001b[0mexception_class\u001b[0m\u001b[0;34m(\u001b[0m\u001b[0mmessage\u001b[0m\u001b[0;34m,\u001b[0m \u001b[0mscreen\u001b[0m\u001b[0;34m,\u001b[0m \u001b[0mstacktrace\u001b[0m\u001b[0;34m)\u001b[0m\u001b[0;34m\u001b[0m\u001b[0m\n\u001b[0m\u001b[1;32m    243\u001b[0m \u001b[0;34m\u001b[0m\u001b[0m\n",
      "\u001b[0;31mNoSuchElementException\u001b[0m: Message: Unable to locate element: .card-img-top cover-thumb\n",
      "\nDuring handling of the above exception, another exception occurred:\n",
      "\u001b[0;31mNoSuchElementException\u001b[0m                    Traceback (most recent call last)",
      "\u001b[0;32m<ipython-input-11-df7694fe630b>\u001b[0m in \u001b[0;36m<module>\u001b[0;34m()\u001b[0m\n\u001b[1;32m      8\u001b[0m     \u001b[0mprint\u001b[0m\u001b[0;34m(\u001b[0m\u001b[0;34m'Was not able to find an element with that name.'\u001b[0m\u001b[0;34m)\u001b[0m\u001b[0;34m\u001b[0m\u001b[0m\n\u001b[1;32m      9\u001b[0m \u001b[0;34m\u001b[0m\u001b[0m\n\u001b[0;32m---> 10\u001b[0;31m     \u001b[0mlinkElem\u001b[0m \u001b[0;34m=\u001b[0m \u001b[0mbrowser\u001b[0m\u001b[0;34m.\u001b[0m\u001b[0mfind_element_by_link_text\u001b[0m\u001b[0;34m(\u001b[0m\u001b[0;34m'Invent Your Own Computer Games with Python'\u001b[0m\u001b[0;34m)\u001b[0m\u001b[0;34m\u001b[0m\u001b[0m\n\u001b[0m\u001b[1;32m     11\u001b[0m     \u001b[0mtype\u001b[0m\u001b[0;34m(\u001b[0m\u001b[0mlinkElem\u001b[0m        \u001b[0;34m)\u001b[0m\u001b[0;34m\u001b[0m\u001b[0m\n\u001b[1;32m     12\u001b[0m     \u001b[0mlinkElem\u001b[0m\u001b[0;34m.\u001b[0m\u001b[0mclick\u001b[0m\u001b[0;34m(\u001b[0m\u001b[0;34m)\u001b[0m\u001b[0;34m\u001b[0m\u001b[0m\n",
      "\u001b[0;32m~/anaconda3/lib/python3.6/site-packages/selenium/webdriver/remote/webdriver.py\u001b[0m in \u001b[0;36mfind_element_by_link_text\u001b[0;34m(self, link_text)\u001b[0m\n\u001b[1;32m    426\u001b[0m             \u001b[0melement\u001b[0m \u001b[0;34m=\u001b[0m \u001b[0mdriver\u001b[0m\u001b[0;34m.\u001b[0m\u001b[0mfind_element_by_link_text\u001b[0m\u001b[0;34m(\u001b[0m\u001b[0;34m'Sign In'\u001b[0m\u001b[0;34m)\u001b[0m\u001b[0;34m\u001b[0m\u001b[0m\n\u001b[1;32m    427\u001b[0m         \"\"\"\n\u001b[0;32m--> 428\u001b[0;31m         \u001b[0;32mreturn\u001b[0m \u001b[0mself\u001b[0m\u001b[0;34m.\u001b[0m\u001b[0mfind_element\u001b[0m\u001b[0;34m(\u001b[0m\u001b[0mby\u001b[0m\u001b[0;34m=\u001b[0m\u001b[0mBy\u001b[0m\u001b[0;34m.\u001b[0m\u001b[0mLINK_TEXT\u001b[0m\u001b[0;34m,\u001b[0m \u001b[0mvalue\u001b[0m\u001b[0;34m=\u001b[0m\u001b[0mlink_text\u001b[0m\u001b[0;34m)\u001b[0m\u001b[0;34m\u001b[0m\u001b[0m\n\u001b[0m\u001b[1;32m    429\u001b[0m \u001b[0;34m\u001b[0m\u001b[0m\n\u001b[1;32m    430\u001b[0m     \u001b[0;32mdef\u001b[0m \u001b[0mfind_elements_by_link_text\u001b[0m\u001b[0;34m(\u001b[0m\u001b[0mself\u001b[0m\u001b[0;34m,\u001b[0m \u001b[0mtext\u001b[0m\u001b[0;34m)\u001b[0m\u001b[0;34m:\u001b[0m\u001b[0;34m\u001b[0m\u001b[0m\n",
      "\u001b[0;32m~/anaconda3/lib/python3.6/site-packages/selenium/webdriver/remote/webdriver.py\u001b[0m in \u001b[0;36mfind_element\u001b[0;34m(self, by, value)\u001b[0m\n\u001b[1;32m    976\u001b[0m         return self.execute(Command.FIND_ELEMENT, {\n\u001b[1;32m    977\u001b[0m             \u001b[0;34m'using'\u001b[0m\u001b[0;34m:\u001b[0m \u001b[0mby\u001b[0m\u001b[0;34m,\u001b[0m\u001b[0;34m\u001b[0m\u001b[0m\n\u001b[0;32m--> 978\u001b[0;31m             'value': value})['value']\n\u001b[0m\u001b[1;32m    979\u001b[0m \u001b[0;34m\u001b[0m\u001b[0m\n\u001b[1;32m    980\u001b[0m     \u001b[0;32mdef\u001b[0m \u001b[0mfind_elements\u001b[0m\u001b[0;34m(\u001b[0m\u001b[0mself\u001b[0m\u001b[0;34m,\u001b[0m \u001b[0mby\u001b[0m\u001b[0;34m=\u001b[0m\u001b[0mBy\u001b[0m\u001b[0;34m.\u001b[0m\u001b[0mID\u001b[0m\u001b[0;34m,\u001b[0m \u001b[0mvalue\u001b[0m\u001b[0;34m=\u001b[0m\u001b[0;32mNone\u001b[0m\u001b[0;34m)\u001b[0m\u001b[0;34m:\u001b[0m\u001b[0;34m\u001b[0m\u001b[0m\n",
      "\u001b[0;32m~/anaconda3/lib/python3.6/site-packages/selenium/webdriver/remote/webdriver.py\u001b[0m in \u001b[0;36mexecute\u001b[0;34m(self, driver_command, params)\u001b[0m\n\u001b[1;32m    319\u001b[0m         \u001b[0mresponse\u001b[0m \u001b[0;34m=\u001b[0m \u001b[0mself\u001b[0m\u001b[0;34m.\u001b[0m\u001b[0mcommand_executor\u001b[0m\u001b[0;34m.\u001b[0m\u001b[0mexecute\u001b[0m\u001b[0;34m(\u001b[0m\u001b[0mdriver_command\u001b[0m\u001b[0;34m,\u001b[0m \u001b[0mparams\u001b[0m\u001b[0;34m)\u001b[0m\u001b[0;34m\u001b[0m\u001b[0m\n\u001b[1;32m    320\u001b[0m         \u001b[0;32mif\u001b[0m \u001b[0mresponse\u001b[0m\u001b[0;34m:\u001b[0m\u001b[0;34m\u001b[0m\u001b[0m\n\u001b[0;32m--> 321\u001b[0;31m             \u001b[0mself\u001b[0m\u001b[0;34m.\u001b[0m\u001b[0merror_handler\u001b[0m\u001b[0;34m.\u001b[0m\u001b[0mcheck_response\u001b[0m\u001b[0;34m(\u001b[0m\u001b[0mresponse\u001b[0m\u001b[0;34m)\u001b[0m\u001b[0;34m\u001b[0m\u001b[0m\n\u001b[0m\u001b[1;32m    322\u001b[0m             response['value'] = self._unwrap_value(\n\u001b[1;32m    323\u001b[0m                 response.get('value', None))\n",
      "\u001b[0;32m~/anaconda3/lib/python3.6/site-packages/selenium/webdriver/remote/errorhandler.py\u001b[0m in \u001b[0;36mcheck_response\u001b[0;34m(self, response)\u001b[0m\n\u001b[1;32m    240\u001b[0m                 \u001b[0malert_text\u001b[0m \u001b[0;34m=\u001b[0m \u001b[0mvalue\u001b[0m\u001b[0;34m[\u001b[0m\u001b[0;34m'alert'\u001b[0m\u001b[0;34m]\u001b[0m\u001b[0;34m.\u001b[0m\u001b[0mget\u001b[0m\u001b[0;34m(\u001b[0m\u001b[0;34m'text'\u001b[0m\u001b[0;34m)\u001b[0m\u001b[0;34m\u001b[0m\u001b[0m\n\u001b[1;32m    241\u001b[0m             \u001b[0;32mraise\u001b[0m \u001b[0mexception_class\u001b[0m\u001b[0;34m(\u001b[0m\u001b[0mmessage\u001b[0m\u001b[0;34m,\u001b[0m \u001b[0mscreen\u001b[0m\u001b[0;34m,\u001b[0m \u001b[0mstacktrace\u001b[0m\u001b[0;34m,\u001b[0m \u001b[0malert_text\u001b[0m\u001b[0;34m)\u001b[0m\u001b[0;34m\u001b[0m\u001b[0m\n\u001b[0;32m--> 242\u001b[0;31m         \u001b[0;32mraise\u001b[0m \u001b[0mexception_class\u001b[0m\u001b[0;34m(\u001b[0m\u001b[0mmessage\u001b[0m\u001b[0;34m,\u001b[0m \u001b[0mscreen\u001b[0m\u001b[0;34m,\u001b[0m \u001b[0mstacktrace\u001b[0m\u001b[0;34m)\u001b[0m\u001b[0;34m\u001b[0m\u001b[0m\n\u001b[0m\u001b[1;32m    243\u001b[0m \u001b[0;34m\u001b[0m\u001b[0m\n\u001b[1;32m    244\u001b[0m     \u001b[0;32mdef\u001b[0m \u001b[0m_value_or_default\u001b[0m\u001b[0;34m(\u001b[0m\u001b[0mself\u001b[0m\u001b[0;34m,\u001b[0m \u001b[0mobj\u001b[0m\u001b[0;34m,\u001b[0m \u001b[0mkey\u001b[0m\u001b[0;34m,\u001b[0m \u001b[0mdefault\u001b[0m\u001b[0;34m)\u001b[0m\u001b[0;34m:\u001b[0m\u001b[0;34m\u001b[0m\u001b[0m\n",
      "\u001b[0;31mNoSuchElementException\u001b[0m: Message: Unable to locate element: Invent Your Own Computer Games with Python\n"
     ]
    }
   ],
   "source": [
    "from selenium import webdriver\n",
    "browser =webdriver.Firefox()\n",
    "browser.get('http://inventwithpython.com')\n",
    "try:\n",
    "    elem = browser.find_element_by_class_name(\"card-img-top cover-thumb\")\n",
    "    print('Found <%s> element with that class name!' % (elem.tag_name))\n",
    "except:\n",
    "    print('Was not able to find an element with that name.')\n",
    "\n",
    "    linkElem = browser.find_element_by_link_text('Invent Your Own Computer Games with Python')\n",
    "    type(linkElem        )\n",
    "    linkElem.click()\n"
   ]
  },
  {
   "cell_type": "code",
   "execution_count": 9,
   "metadata": {},
   "outputs": [
    {
     "name": "stderr",
     "output_type": "stream",
     "text": [
      "/home/dan/anaconda3/lib/python3.6/site-packages/bs4/__init__.py:181: UserWarning: No parser was explicitly specified, so I'm using the best available HTML parser for this system (\"lxml\"). This usually isn't a problem, but if you run this code on another system, or in a different virtual environment, it may use a different parser and behave differently.\n",
      "\n",
      "The code that caused this warning is on line 193 of the file /home/dan/anaconda3/lib/python3.6/runpy.py. To get rid of this warning, change code that looks like this:\n",
      "\n",
      " BeautifulSoup(YOUR_MARKUP})\n",
      "\n",
      "to this:\n",
      "\n",
      " BeautifulSoup(YOUR_MARKUP, \"lxml\")\n",
      "\n",
      "  markup_type=markup_type))\n"
     ]
    },
    {
     "data": {
      "text/plain": [
       "[<a class=\"navbar-brand\" href=\"/\">Invent with Python</a>,\n",
       " <a aria-expanded=\"false\" aria-haspopup=\"true\" class=\"nav-link dropdown-toggle\" data-toggle=\"dropdown\" id=\"navbarDropdownReadMenuLink\">\n",
       "           Read for Free\n",
       "         </a>,\n",
       " <a class=\"dropdown-item\" href=\"https://automatetheboringstuff.com\">Automate the Boring Stuff with Python</a>,\n",
       " <a class=\"dropdown-item\" href=\"https://turtleappstore.com/book/\">Coding with Minecraft</a>,\n",
       " <a class=\"dropdown-item\" href=\"/cracking\">Cracking Codes with Python</a>,\n",
       " <a class=\"dropdown-item\" href=\"/invent4thed\">Invent Your Own Computer Games with Python</a>,\n",
       " <a class=\"dropdown-item\" href=\"/pygame\">Making Games with Python &amp; Pygame</a>,\n",
       " <a class=\"dropdown-item\" href=\"https://inventwithscratch.com\">Scratch Programming Playground</a>,\n",
       " <a aria-expanded=\"false\" aria-haspopup=\"true\" class=\"nav-link dropdown-toggle\" data-toggle=\"dropdown\" id=\"navbarDropdownBuyMenuLink\">\n",
       "           Buy Books\n",
       "         </a>,\n",
       " <a class=\"dropdown-item\" href=\"https://www.amazon.com/gp/product/1593275994/ref=as_li_tl?ie=UTF8&amp;camp=1789&amp;creative=9325&amp;creativeASIN=1593275994&amp;linkCode=as2&amp;tag=playwithpyth-20&amp;linkId=HDM7V3T6RHC5VVN4\">Automate the Boring Stuff with Python</a>,\n",
       " <a class=\"dropdown-item\" href=\"https://www.amazon.com/gp/product/1593278535/ref=as_li_tl?ie=UTF8&amp;tag=playwithpyth-20&amp;camp=1789&amp;creative=9325&amp;linkCode=as2&amp;creativeASIN=1593278535&amp;linkId=41a454fd9d3d5eded556e0de6f1f5ae1\">Coding with Minecraft</a>,\n",
       " <a class=\"dropdown-item\" href=\"https://www.amazon.com/gp/product/1593278225/ref=as_li_tl?ie=UTF8&amp;camp=1789&amp;creative=9325&amp;creativeASIN=1593278225&amp;linkCode=as2&amp;tag=playwithpyth-20&amp;linkId=bf3b22819f0886d277e88b8a653b81ad\">Cracking Codes with Python</a>,\n",
       " <a class=\"dropdown-item\" href=\"https://www.amazon.com/gp/product/1593277954/ref=as_li_tl?ie=UTF8&amp;camp=1789&amp;creative=9325&amp;creativeASIN=1593277954&amp;linkCode=as2&amp;tag=playwithpyth-20&amp;linkId=18a80d666d24cc13bf52ff57fb72a632\">Invent Your Own Computer Games with Python</a>,\n",
       " <a class=\"dropdown-item\" href=\"https://www.amazon.com/Making-Games-Python-Pygame-Sweigart/dp/1469901730?ie=UTF8&amp;tag=playwithpyth-20&amp;linkCode=as2&amp;camp=1789&amp;creative=9325&amp;creativeASIN=0982106017\">Making Games with Python &amp; Pygame</a>,\n",
       " <a class=\"dropdown-item\" href=\"https://www.amazon.com/gp/product/1593277628/ref=as_li_tl?ie=UTF8&amp;camp=1789&amp;creative=9325&amp;creativeASIN=1593277628&amp;linkCode=as2&amp;tag=playwithpyth-20&amp;linkId=29a56275e4a22ffedc2b92282fe0a809\">Scratch Programming Playground</a>,\n",
       " <a aria-expanded=\"false\" aria-haspopup=\"true\" class=\"nav-link dropdown-toggle\" data-toggle=\"dropdown\" id=\"navbarDropdownUdemyMenuLink\">\n",
       "           Udemy Courses\n",
       "         </a>,\n",
       " <a class=\"dropdown-item\" href=\"https://www.udemy.com/automate/?couponCode=INVENT_WITH_PYTHON\">Automate the Boring Stuff with Python</a>,\n",
       " <a class=\"dropdown-item\" href=\"https://www.udemy.com/scratch-game-programming/?couponCode=INVENT_WITH_SCRATCH\">Scratch Programming Playground</a>,\n",
       " <a class=\"nav-link\" href=\"https://www.youtube.com/user/Albert10110\">YouTube</a>,\n",
       " <a class=\"nav-link\" href=\"https://www.reddit.com/r/inventwithpython\">Forum</a>,\n",
       " <a class=\"nav-link\" href=\"/blog\">Blog</a>,\n",
       " <a class=\"nav-link\" href=\"/#donate\">Donate</a>,\n",
       " <a href=\"#automate\"><img alt=\"Cover of Automate the Boring Stuff with Python\" class=\"card-img-top cover-thumb\" src=\"images/cover_automate_thumb.png\"/></a>,\n",
       " <a href=\"#automate\">Automate the Boring Stuff with Python</a>,\n",
       " <a class=\"btn btn-primary\" href=\"#automate\">More Info</a>,\n",
       " <a href=\"#minecraft\"><img alt=\"Cover of Coding with Minecraft\" class=\"card-img-top cover-thumb\" src=\"images/cover_codingwithminecraft_thumb.png\"/></a>,\n",
       " <a href=\"#minecraft\">Coding with Minecraft</a>,\n",
       " <a class=\"btn btn-primary\" href=\"#minecraft\">More Info</a>,\n",
       " <a href=\"#cracking\"><img alt=\"Cover of Cracking Codes with Python\" class=\"card-img-top cover-thumb\" src=\"images/cover_crackingcodes_thumb.png\"/></a>,\n",
       " <a href=\"#cracking\">Cracking Codes with Python</a>,\n",
       " <a class=\"btn btn-primary\" href=\"#cracking\">More Info</a>,\n",
       " <a href=\"#invent\"><img alt=\"Cover of Invent Your Own Computer Games with Python\" class=\"card-img-top cover-thumb\" src=\"images/cover_invent4th_thumb.png\"/></a>,\n",
       " <a href=\"#invent\">Invent Your Own Computer Games with Python, 4th Edition</a>,\n",
       " <a class=\"btn btn-primary\" href=\"#invent\">More Info</a>,\n",
       " <a href=\"#scratch\"><img alt=\"Cover of Scratch Programming Playground\" class=\"card-img-top cover-thumb\" src=\"images/cover_scratchprogrammingplayground_thumb.jpg\"/></a>,\n",
       " <a href=\"#scratch\">Scratch Programming Playground</a>,\n",
       " <a class=\"btn btn-primary\" href=\"#scratch\">More Info</a>,\n",
       " <a href=\"#pygame\"><img alt=\"Cover of Making Games with Python &amp; Pygame\" class=\"card-img-top cover-thumb\" src=\"images/cover_makinggames_thumb.png\"/></a>,\n",
       " <a href=\"#pygame\">Making Games with Python &amp; Pygame</a>,\n",
       " <a class=\"btn btn-primary\" href=\"#pygame\">More Info</a>,\n",
       " <a href=\"https://www.amazon.com/gp/customer-reviews/R7XBITQOBMK9V/ref=cm_cr_dp_d_rvw_ttl?ie=UTF8&amp;ASIN=1593275994\">Read full Amazon review</a>,\n",
       " <a href=\"http://tartley.com/\">tartley.com</a>,\n",
       " <a href=\"https://www.amazon.com/review/RA7EII6XKPG4Y/ref=cm_cr_rdp_perm\">Read full Amazon review</a>,\n",
       " <a href=\"https://www.amazon.com/review/RA7EII6XKPG4Y/ref=cm_cr_rdp_perm\">Read full Amazon review</a>,\n",
       " <a href=\"https://www.amazon.com/gp/customer-reviews/R1MMEYKQLDG65T/ref=cm_cr_dp_d_rvw_ttl?ie=UTF8&amp;ASIN=1593275994\">Read full Amazon review</a>,\n",
       " <a href=\"https://www.amazon.com/review/RYSRCG4GTVNMV/ref=cm_cr_rdp_perm\">Read full Amazon review</a>,\n",
       " <a href=\"https://www.amazon.com/gp/customer-reviews/RZ83FNJ2S49DE/ref=cm_cr_arp_d_rvw_ttl?ie=UTF8&amp;ASIN=B00WOY87ZU\">Read full Amazon review</a>,\n",
       " <a name=\"automate\">Learn Coding for Automation</a>,\n",
       " <a href=\"https://www.udemy.com/automate/?couponCode=INVENT_WITH_PYTHON\">online course of this book on Udemy</a>,\n",
       " <a href=\"https://www.udemy.com/automate/?couponCode=INVENT_WITH_PYTHON\">INVENT_WITH_PYTHON</a>,\n",
       " <a class=\"btn btn-primary\" href=\"http://www.amazon.com/gp/product/1593275994/ref=as_li_tl?ie=UTF8&amp;camp=1789&amp;creative=9325&amp;creativeASIN=1593275994&amp;linkCode=as2&amp;tag=playwithpyth-20&amp;linkId=HDM7V3T6RHC5VVN4\">Buy on Amazon</a>,\n",
       " <a class=\"btn btn-primary\" href=\"https://www.nostarch.com/automatestuff\">Buy Print/Ebook Bundle</a>,\n",
       " <a class=\"btn btn-primary\" href=\"https://automatetheboringstuff.com/\">Read Online for Free</a>,\n",
       " <a name=\"minecraft\">Program Robots in Minecraft</a>,\n",
       " <a href=\"https://turtleappstore.com/book/\">You can get a free review copy of this ebook!</a>,\n",
       " <a class=\"btn btn-primary\" href=\"https://www.amazon.com/gp/product/1593278535/ref=as_li_tl?ie=UTF8&amp;tag=playwithpyth-20&amp;camp=1789&amp;creative=9325&amp;linkCode=as2&amp;creativeASIN=1593278535&amp;linkId=41a454fd9d3d5eded556e0de6f1f5ae1\">Buy on Amazon</a>,\n",
       " <a class=\"btn btn-primary\" href=\"https://www.nostarch.com/codingwithminecraft\">Buy Print/Ebook Bundle</a>,\n",
       " <a class=\"btn btn-primary\" href=\"https://turtleappstore.com/book\">Read Online for Free</a>,\n",
       " <a name=\"cracking\">Encrypt Messages and Hack Ciphers</a>,\n",
       " <a href=\"https://inventwithpython.com/cracking/review.html\">You can get a free review copy of this ebook!</a>,\n",
       " <a href=\"hacking\">Hacking Secret Ciphers with Python</a>,\n",
       " <a class=\"btn btn-primary\" href=\"https://www.amazon.com/gp/product/1593278225/ref=as_li_tl?ie=UTF8&amp;camp=1789&amp;creative=9325&amp;creativeASIN=1593278225&amp;linkCode=as2&amp;tag=playwithpyth-20&amp;linkId=bf3b22819f0886d277e88b8a653b81ad\">Buy on Amazon</a>,\n",
       " <a class=\"btn btn-primary\" href=\"https://www.nostarch.com/crackingcodes\">Buy Print/Ebook Bundle</a>,\n",
       " <a class=\"btn btn-primary\" href=\"cracking/\">Read Online for Free</a>,\n",
       " <a name=\"invent\">Create Computer Games</a>,\n",
       " <a href=\"https://inventwithpython.com/invent4thed/review.html\">You can get a free review copy of this ebook!</a>,\n",
       " <a class=\"btn btn-primary\" href=\"https://www.amazon.com/gp/product/1593277954/ref=as_li_tl?ie=UTF8&amp;camp=1789&amp;creative=9325&amp;creativeASIN=1593277954&amp;linkCode=as2&amp;tag=playwithpyth-20&amp;linkId=18a80d666d24cc13bf52ff57fb72a632\">Buy on Amazon</a>,\n",
       " <a class=\"btn btn-primary\" href=\"https://www.nostarch.com/inventwithpython\">Buy Print/Ebook Bundle</a>,\n",
       " <a class=\"btn btn-primary\" href=\"invent4thed/\">Read Online for Free</a>,\n",
       " <a name=\"scratch\">Game Programming for Kids</a>,\n",
       " <a href=\"https://inventwithscratch.com/\">Invent with Scratch</a>,\n",
       " <a href=\"https://www.udemy.com/scratch-game-programming/?couponCode=INVENT_WITH_SCRATCH\">You can sign up for free using the coupon code INVENT_WITH_SCRATCH.</a>,\n",
       " <a href=\"https://inventwithscratch.com/#review\">You can get a free review copy of this ebook!</a>,\n",
       " <a class=\"btn btn-primary\" href=\"https://www.amazon.com/gp/product/1593277628/ref=as_li_tl?ie=UTF8&amp;camp=1789&amp;creative=9325&amp;creativeASIN=1593277628&amp;linkCode=as2&amp;tag=playwithpyth-20&amp;linkId=29a56275e4a22ffedc2b92282fe0a809\">Buy on Amazon</a>,\n",
       " <a class=\"btn btn-primary\" href=\"https://www.nostarch.com/scratchplayground\">Buy Print/Ebook Bundle</a>,\n",
       " <a class=\"btn btn-primary\" href=\"https://inventwithscratch.com\">Read Online for Free</a>,\n",
       " <a name=\"pygame\">Make Games with Graphics</a>,\n",
       " <a class=\"btn btn-primary\" href=\"http://www.amazon.com/Making-Games-Python-Pygame-Sweigart/dp/1469901730?ie=UTF8&amp;tag=playwithpyth-20&amp;linkCode=as2&amp;camp=1789&amp;creative=9325&amp;creativeASIN=0982106017\">Buy on Amazon</a>,\n",
       " <a class=\"btn btn-primary\" href=\"pygame\">Read Online for Free</a>,\n",
       " <a href=\"https://www.udemy.com/automate/?couponCode=INVENT_WITH_PYTHON\"><img alt=\"Udemy Automate course thumbnail\" class=\"card-img-top\" src=\"images/udemy_automate_thumb.png\"/></a>,\n",
       " <a href=\"https://www.udemy.com/automate/?couponCode=INVENT_WITH_PYTHON\">\"Automate\" Udemy Course</a>,\n",
       " <a class=\"btn btn-primary\" href=\"https://www.udemy.com/automate/?couponCode=INVENT_WITH_PYTHON\">80% Discount</a>,\n",
       " <a href=\"https://www.udemy.com/scratch-game-programming/?couponCode=INVENT_WITH_SCRATCH\"><img alt=\"Udemy Scratch course thumbnail\" class=\"card-img-top\" src=\"images/udemy_scratch_thumb.png\"/></a>,\n",
       " <a href=\"https://www.udemy.com/scratch-game-programming/?couponCode=INVENT_WITH_SCRATCH\">\"Scratch\" Udemy Course</a>,\n",
       " <a class=\"btn btn-primary\" href=\"https://www.udemy.com/scratch-game-programming/?couponCode=INVENT_WITH_SCRATCH\">100% Discount</a>,\n",
       " <a href=\"http://www.youtube.com/user/Albert10110\">my YouTube channel</a>,\n",
       " <a href=\"https://www.youtube.com/watch?v=1F_OgqRuSdI&amp;list=PL0-84-yl1fUnRuXGFe_F7qSH1LEnn9LkW\">Free preview of my \"Automate the Boring Stuff with Python\" Udemy course</a>,\n",
       " <a href=\"https://www.youtube.com/watch?v=oRBfjK-qeXE&amp;list=PL0-84-yl1fUkall6a14nqzXpG79-RgI1F\">Scratch game programming project tutorials</a>,\n",
       " <a href=\"https://www.youtube.com/watch?v=jfjwaIvS7AI&amp;list=PL0-84-yl1fUkK3PV8RHT0XskLhxPVE_Y1\">Preview of my \"Get Good at Python Programming\" Udemy course (under development)</a>,\n",
       " <a href=\"https://www.youtube.com/watch?v=ZCVb_EKTwQM&amp;list=PL0-84-yl1fUki_zQ1ouwGN8t3spCTLnpS\">\"Scratch Blocks in 60 Seconds\" series</a>,\n",
       " <a href=\"https://www.youtube.com/watch?v=rXSDETkSeTc&amp;list=PL0-84-yl1fUnZrr4nzzp3b3zYfsp6lIBT\">\"Blank Editor\" series, covering practice coding problems in Python</a>,\n",
       " <a name=\"donate\">Donate</a>,\n",
       " <a href=\"https://creativecommons.org\">Creative Commons license</a>,\n",
       " <a href=\"https://www.humblebundle.com/books\">Humble Book Bundles</a>,\n",
       " <a href=\"https://www.patreon.com/AlSweigart\">Support me on Patreon</a>,\n",
       " <a href=\"https://www.udemy.com/automate/?couponCode=JUST_SAYING_THANKS\">discount code JUST_SAYING_THANKS</a>,\n",
       " <a href=\"https://www.udemy.com/scratch-game-programming/?couponCode=JUST_SAYING_THANKS\">discount code JUST_SAYING_THANKS</a>,\n",
       " <a href=\"https://www.amazon.com/gp/product/1593278535/ref=as_li_tl?ie=UTF8&amp;tag=playwithpyth-20&amp;camp=1789&amp;creative=9325&amp;linkCode=as2&amp;creativeASIN=1593278535&amp;linkId=41a454fd9d3d5eded556e0de6f1f5ae1\">Coding with Minecraft</a>,\n",
       " <a href=\"http://www.amazon.com/gp/product/1593275994/ref=as_li_tl?ie=UTF8&amp;camp=1789&amp;creative=9325&amp;creativeASIN=1593275994&amp;linkCode=as2&amp;tag=playwithpyth-20&amp;linkId=HDM7V3T6RHC5VVN4\">Automate the Boring Stuff with Python</a>,\n",
       " <a href=\"http://www.amazon.com/gp/product/1482614375/ref=as_li_qf_sp_asin_tl?ie=UTF8&amp;camp=1789&amp;creative=9325&amp;creativeASIN=1482614375&amp;linkCode=as2&amp;tag=playwithpyth-20\">Cracking Codes with Python</a>,\n",
       " <a href=\"https://www.amazon.com/gp/product/1593277954/ref=as_li_tl?ie=UTF8&amp;camp=1789&amp;creative=9325&amp;creativeASIN=1593277954&amp;linkCode=as2&amp;tag=playwithpyth-20&amp;linkId=18a80d666d24cc13bf52ff57fb72a632\">Invent Your Own Computer Games with Python, 4th Edition</a>,\n",
       " <a href=\"http://www.amazon.com/Making-Games-Python-Pygame-Sweigart/dp/1469901730?ie=UTF8&amp;tag=playwithpyth-20&amp;linkCode=as2&amp;camp=1789&amp;creative=9325&amp;creativeASIN=0982106017\">Making Games with Python &amp; Pygame</a>,\n",
       " <a href=\"https://www.amazon.com/gp/product/1593277628/ref=as_li_tl?ie=UTF8&amp;camp=1789&amp;creative=9325&amp;creativeASIN=1593277628&amp;linkCode=as2&amp;tag=playwithpyth-20&amp;linkId=29a56275e4a22ffedc2b92282fe0a809\">Scratch Programming Playground</a>,\n",
       " <a href=\"https://twitter.com/intent/tweet?original_referer=http%3A%2F%2Finventwithpython.com%2F&amp;ref_src=twsrc%5Etfw&amp;text=Learn%20to%20code%20by%20making%20games%20and%20hacking%20ciphers!%20Free%20books%20at&amp;tw_p=tweetbutton&amp;url=http%3A%2F%2FInventWithPython.com&amp;via=AlSweigart\"><img src=\"images/tweet.png\"/></a>,\n",
       " <a href=\"https://www.amazon.com/gp/product/1593276036/ref=as_li_tl?ie=UTF8&amp;camp=1789&amp;creative=9325&amp;creativeASIN=1593276036&amp;linkCode=as2&amp;tag=playwithpyth-20&amp;linkId=46d677598d9c43c832ccfa4167af2b22\" target=\"_blank\"><img class=\"card-img-top img-fluid\" src=\"images/affiliate_program_python_crash_course.png\"/></a>,\n",
       " <a href=\"https://www.amazon.com/gp/product/1593276036/ref=as_li_tl?ie=UTF8&amp;camp=1789&amp;creative=9325&amp;creativeASIN=1593276036&amp;linkCode=as2&amp;tag=playwithpyth-20&amp;linkId=46d677598d9c43c832ccfa4167af2b22\" target=\"_blank\">Python Crash Course</a>,\n",
       " <a href=\"https://www.amazon.com/gp/product/1593276141/ref=as_li_tl?ie=UTF8&amp;camp=1789&amp;creative=9325&amp;creativeASIN=1593276141&amp;linkCode=as2&amp;tag=playwithpyth-20&amp;linkId=29cb732f1dd5e3400bc14ce633c6051d\" target=\"_blank\"><img class=\"card-img-top img-fluid\" src=\"images/affiliate_program_teach_your_kids_to_code.jpg\"/></a>,\n",
       " <a href=\"https://www.amazon.com/gp/product/1593276141/ref=as_li_tl?ie=UTF8&amp;camp=1789&amp;creative=9325&amp;creativeASIN=1593276141&amp;linkCode=as2&amp;tag=playwithpyth-20&amp;linkId=29cb732f1dd5e3400bc14ce633c6051d\" target=\"_blank\">Teach Your Kids to Code</a>,\n",
       " <a href=\"https://www.amazon.com/gp/product/1593276702/ref=as_li_tl?ie=UTF8&amp;camp=1789&amp;creative=9325&amp;creativeASIN=1593276702&amp;linkCode=as2&amp;tag=playwithpyth-20&amp;linkId=8c2dc58f3596d3421ff277ca7605d211\" target=\"_blank\"><img class=\"card-img-top img-fluid\" src=\"images/affiliate_program_learn_to_program_with_minecraft.jpg\"/></a>,\n",
       " <a href=\"https://www.amazon.com/gp/product/1593276702/ref=as_li_tl?ie=UTF8&amp;camp=1789&amp;creative=9325&amp;creativeASIN=1593276702&amp;linkCode=as2&amp;tag=playwithpyth-20&amp;linkId=8c2dc58f3596d3421ff277ca7605d211\" target=\"_blank\">Learn to Program with Minecraft</a>,\n",
       " <a href=\"https://www.amazon.com/gp/product/1593274076/ref=as_li_tf_tl?ie=UTF8&amp;camp=1789&amp;creative=9325&amp;creativeASIN=1593274076&amp;linkCode=as2&amp;tag=playwithpyth-20\" target=\"_blank\"><img class=\"card-img-top\" src=\"images/affiliate_program_pythonforkids.jpg\"/></a>,\n",
       " <a href=\"https://www.amazon.com/gp/product/1593274076/ref=as_li_tf_tl?ie=UTF8&amp;camp=1789&amp;creative=9325&amp;creativeASIN=1593274076&amp;linkCode=as2&amp;tag=playwithpyth-20\" target=\"_blank\">Python for Kids</a>,\n",
       " <a href=\"https://www.amazon.com/gp/product/1449357016/ref=as_li_tl?ie=UTF8&amp;camp=1789&amp;creative=9325&amp;creativeASIN=1449357016&amp;linkCode=as2&amp;tag=playwithpyth-20&amp;linkId=75324751b78ae9760d7f9ccee06ed42e\" target=\"_blank\"><img class=\"card-img-top img-fluid\" src=\"images/affiliate_program_pocket_ref.png\"/></a>,\n",
       " <a href=\"https://www.amazon.com/gp/product/1449357016/ref=as_li_tl?ie=UTF8&amp;camp=1789&amp;creative=9325&amp;creativeASIN=1449357016&amp;linkCode=as2&amp;tag=playwithpyth-20&amp;linkId=75324751b78ae9760d7f9ccee06ed42e\" target=\"_blank\">Python Pocket Reference</a>,\n",
       " <a href=\"https://www.amazon.com/gp/product/1449355730/ref=as_li_tl?ie=UTF8&amp;camp=1789&amp;creative=9325&amp;creativeASIN=1449355730&amp;linkCode=as2&amp;tag=playwithpyth-20&amp;linkId=d7f647d444791202e1c546c2518e2542\" target=\"_blank\"><img class=\"card-img-top img-fluid\" src=\"images/affiliate_program_learning_python.png\"/></a>,\n",
       " <a href=\"https://www.amazon.com/gp/product/1449355730/ref=as_li_tl?ie=UTF8&amp;camp=1789&amp;creative=9325&amp;creativeASIN=1449355730&amp;linkCode=as2&amp;tag=playwithpyth-20&amp;linkId=d7f647d444791202e1c546c2518e2542\" target=\"_blank\">Learning Python</a>,\n",
       " <a href=\"https://www.amazon.com/gp/product/193518220X/ref=as_li_tl?ie=UTF8&amp;camp=1789&amp;creative=9325&amp;creativeASIN=193518220X&amp;linkCode=as2&amp;tag=playwithpyth-20&amp;linkId=fb546cb3332f5402fd836dc2ed4ac6fc\" target=\"_blank\"><img class=\"card-img-top img-fluid\" src=\"images/affiliate_program_quick_python.jpg\"/></a>,\n",
       " <a href=\"https://www.amazon.com/gp/product/193518220X/ref=as_li_tl?ie=UTF8&amp;camp=1789&amp;creative=9325&amp;creativeASIN=193518220X&amp;linkCode=as2&amp;tag=playwithpyth-20&amp;linkId=fb546cb3332f5402fd836dc2ed4ac6fc\" target=\"_blank\">The Quick Python Book</a>,\n",
       " <a href=\"https://www.amazon.com/gp/product/1491946008/ref=as_li_tl?ie=UTF8&amp;camp=1789&amp;creative=9325&amp;creativeASIN=1491946008&amp;linkCode=as2&amp;tag=playwithpyth-20&amp;linkId=f03271c8ba828c5896fa0c029f680117\" target=\"_blank\"><img class=\"card-img-top img-fluid\" src=\"images/affiliate_program_fluent_python.png\"/></a>,\n",
       " <a href=\"https://www.amazon.com/gp/product/1491946008/ref=as_li_tl?ie=UTF8&amp;camp=1789&amp;creative=9325&amp;creativeASIN=1491946008&amp;linkCode=as2&amp;tag=playwithpyth-20&amp;linkId=f03271c8ba828c5896fa0c029f680117\" target=\"_blank\">Fluent Python</a>,\n",
       " <a href=\"https://www.amazon.com/gp/product/0134034287/ref=as_li_tl?ie=UTF8&amp;camp=1789&amp;creative=9325&amp;creativeASIN=0134034287&amp;linkCode=as2&amp;tag=playwithpyth-20&amp;linkId=40b1da5c8883167fab51a2706373562d\" target=\"_blank\"><img class=\"card-img-top img-fluid\" src=\"images/affiliate_program_effective_python.png\"/></a>,\n",
       " <a href=\"https://www.amazon.com/gp/product/0134034287/ref=as_li_tl?ie=UTF8&amp;camp=1789&amp;creative=9325&amp;creativeASIN=0134034287&amp;linkCode=as2&amp;tag=playwithpyth-20&amp;linkId=40b1da5c8883167fab51a2706373562d\" target=\"_blank\">Effective Python</a>,\n",
       " <a href=\"https://www.amazon.com/gp/product/0132678209/ref=as_li_tl?ie=UTF8&amp;camp=1789&amp;creative=9325&amp;creativeASIN=0132678209&amp;linkCode=as2&amp;tag=playwithpyth-20&amp;linkId=75752b4f8a61d3066e7e8e88cc1cbe7c\" target=\"_blank\"><img class=\"card-img-top img-fluid\" src=\"images/affiliate_program_core_python.png\"/></a>,\n",
       " <a href=\"https://www.amazon.com/gp/product/0132678209/ref=as_li_tl?ie=UTF8&amp;camp=1789&amp;creative=9325&amp;creativeASIN=0132678209&amp;linkCode=as2&amp;tag=playwithpyth-20&amp;linkId=75752b4f8a61d3066e7e8e88cc1cbe7c\" target=\"_blank\">Core Python Applications Programming</a>,\n",
       " <a href=\"https://www.amazon.com/gp/product/1593273894/ref=as_li_tl?ie=UTF8&amp;camp=1789&amp;creative=9325&amp;creativeASIN=1593273894&amp;linkCode=as2&amp;tag=playwithpyth-20&amp;linkId=03d2209ac4617e9d86430103c7aa1f3e\" target=\"_blank\"><img class=\"card-img-top img-fluid\" src=\"images/affiliate_program_linux_command_line.png\"/></a>,\n",
       " <a href=\"https://www.amazon.com/gp/product/1593273894/ref=as_li_tl?ie=UTF8&amp;camp=1789&amp;creative=9325&amp;creativeASIN=1593273894&amp;linkCode=as2&amp;tag=playwithpyth-20&amp;linkId=03d2209ac4617e9d86430103c7aa1f3e\" target=\"_blank\">The Linux Command Line</a>,\n",
       " <a href=\"https://www.amazon.com/gp/product/1593275900/ref=as_li_tl?ie=UTF8&amp;camp=1789&amp;creative=9325&amp;creativeASIN=1593275900&amp;linkCode=as2&amp;tag=playwithpyth-20&amp;linkId=7dfe261d88f02b30aef17f0799ead11d\" target=\"_blank\"><img class=\"card-img-top img-fluid\" src=\"images/affiliate_program_black_hat.png\"/></a>,\n",
       " <a href=\"https://www.amazon.com/gp/product/1593275900/ref=as_li_tl?ie=UTF8&amp;camp=1789&amp;creative=9325&amp;creativeASIN=1593275900&amp;linkCode=as2&amp;tag=playwithpyth-20&amp;linkId=7dfe261d88f02b30aef17f0799ead11d\" target=\"_blank\">Black Hat Python</a>,\n",
       " <a href=\"https://www.amazon.com/gp/product/1597499579/ref=as_li_qf_sp_asin_tl?ie=UTF8&amp;camp=1789&amp;creative=9325&amp;creativeASIN=1597499579&amp;linkCode=as2&amp;tag=playwithpyth-20\" target=\"_blank\"><img class=\"card-img-top img-fluid\" src=\"images/affiliate_program_violentpython.jpg\"/></a>,\n",
       " <a href=\"https://www.amazon.com/gp/product/1597499579/ref=as_li_qf_sp_asin_tl?ie=UTF8&amp;camp=1789&amp;creative=9325&amp;creativeASIN=1597499579&amp;linkCode=as2&amp;tag=playwithpyth-20\" target=\"_blank\">Violent Python</a>,\n",
       " <a href=\"https://github.com/asweigart/readal\">several open source modules</a>,\n",
       " <a href=\"images/zophie.png\">cat</a>,\n",
       " <a href=\"http://inventwithpython.com/blog/\">Invent with Python Blog</a>,\n",
       " <a href=\"https://twitter.com/AlSweigart\">Twitter profile</a>,\n",
       " <a href=\"https://github.com/asweigart/readal\">GitHub profile</a>,\n",
       " <a href=\"http://www.youtube.com/user/Albert10110\">YouTube channel</a>,\n",
       " <a href=\"https://opensource.com/users/alsweigart\">OpenSource.com articles</a>,\n",
       " <a href=\"https://www.twitch.tv/AlSweigart\">Twitch stream</a>,\n",
       " <a href=\"https://www.youtube.com/watch?v=AfBqVVKg4GE\">\"Recursion for Beginners: A Beginner's Guide to Recursion\" (North Bay Python 2018)</a>,\n",
       " <a href=\"https://www.youtube.com/watch?v=ONCVvS-gDMA\">\"Logging and Testing and Debugging, Oh My!\" (PyBay 2017)</a>,\n",
       " <a href=\"https://www.youtube.com/watch?v=abrcJ9MpF60\">\"Yes, It's Time to Learn Regular Expressions\" (PyCon 2017)</a>,\n",
       " <a href=\"https://www.youtube.com/watch?v=MksyISonCws\">preview at BayPIGgies</a>,\n",
       " <a href=\"https://www.youtube.com/watch?v=dZLyfbSQPXI\">\"Automating Your Browser and Desktop Apps\" (PyBay 2016)</a>,\n",
       " <a href=\"https://www.youtube.com/watch?v=ueq1iTWQU5U\">\"Become an Excel Wizard Using Python Scripting\" (IndyPy Meetup Sept 2016)</a>,\n",
       " <a href=\"https://www.youtube.com/watch?v=IJewV7o1bwU\">\"Automating Your Browser and Desktop Apps\" (DjangoCon 2015)</a>,\n",
       " <a href=\"https://talkpython.fm/episodes/show/106/invent-your-own-computer-games-with-python\">Talk Python to Me pocast (Apr 2017)</a>,\n",
       " <a href=\"https://www.crowdcast.io/e/scratch/register?mc_cid=59be7b3ffb&amp;mc_eid=d1c31fcac8\">\"Scratch vs Python\" (Nov 2016)</a>,\n",
       " <a href=\"https://www.weeklypython.chat/\">Trey Hunner's Weekly Python Chat</a>,\n",
       " <a href=\"https://joecolantonio.com/testtalks/54-al-sweigart-automate-the-boring-stuff-with-python/\">Test Talks, Episode 54 (May 2015)</a>,\n",
       " <a href=\"https://www.podcastinit.com/episode-19-al-sweigart-on-python-for-non-programmers/\">Podcast.__init__, Episode 19</a>,\n",
       " <a href=\"https://greynoi.se/podcasts/def-con-25-interview-with-al-sweigart\">greynoi.se interview at DEF CON 25 (Jul 2017)</a>,\n",
       " <a href=\"https://www.blog.pythonlibrary.org/2016/11/07/pydev-of-the-week-al-sweigart/\">PyDev of the Week: Al Sweigart (Nov 2016)</a>,\n",
       " <a href=\"http://blog.agupieware.com/2013/10/an-interview-with-al-sweigart-author-of.html\">aGupieWare interview (Oct 2013)</a>,\n",
       " <a href=\"/cdn-cgi/l/email-protection#27464b674e4951424953504e534f575e534f48490944484a\"><span class=\"__cf_email__\" data-cfemail=\"f0919cb0999e86959e8487998498808984989f9ede939f9d\">[email protected]</span></a>,\n",
       " <a href=\"https://twitter.com/AlSweigart\">@AlSweigart</a>]"
      ]
     },
     "execution_count": 9,
     "metadata": {},
     "output_type": "execute_result"
    }
   ],
   "source": [
    "import requests, bs4    \n",
    "res =  requests.get('http://inventwithpython.com')\n",
    "bs= bs4.BeautifulSoup(res.text)\n",
    "links= bs('a')\n",
    "links"
   ]
  },
  {
   "cell_type": "markdown",
   "metadata": {},
   "source": [
    "TODO selenium \n",
    "although it is working as a modulus it is not doing what is expected in the example . \n",
    "to check with other site."
   ]
  },
  {
   "cell_type": "code",
   "execution_count": null,
   "metadata": {},
   "outputs": [],
   "source": []
  },
  {
   "cell_type": "code",
   "execution_count": null,
   "metadata": {},
   "outputs": [],
   "source": []
  },
  {
   "cell_type": "code",
   "execution_count": null,
   "metadata": {},
   "outputs": [],
   "source": []
  },
  {
   "cell_type": "code",
   "execution_count": null,
   "metadata": {},
   "outputs": [],
   "source": []
  },
  {
   "cell_type": "markdown",
   "metadata": {},
   "source": [
    "<h2> 12. Spreadsheets </h2>"
   ]
  },
  {
   "cell_type": "markdown",
   "metadata": {},
   "source": [
    "<h3> the openpyxl module </h3>"
   ]
  },
  {
   "cell_type": "code",
   "execution_count": 2,
   "metadata": {},
   "outputs": [],
   "source": [
    "import openpyxl"
   ]
  },
  {
   "cell_type": "code",
   "execution_count": 7,
   "metadata": {},
   "outputs": [
    {
     "data": {
      "text/plain": [
       "openpyxl.workbook.workbook.Workbook"
      ]
     },
     "execution_count": 7,
     "metadata": {},
     "output_type": "execute_result"
    }
   ],
   "source": [
    "wb = openpyxl.load_workbook('example.xlsx')\n",
    "type(wb)"
   ]
  },
  {
   "cell_type": "markdown",
   "metadata": {},
   "source": [
    "`.get_sheet_names()`"
   ]
  },
  {
   "cell_type": "code",
   "execution_count": 13,
   "metadata": {},
   "outputs": [
    {
     "name": "stdout",
     "output_type": "stream",
     "text": [
      "['Sheet1', 'Sheet2', 'Sheet3']\n",
      "<class 'openpyxl.worksheet.worksheet.Worksheet'>\n",
      "Sheet3\n"
     ]
    },
    {
     "name": "stderr",
     "output_type": "stream",
     "text": [
      "/home/dan/anaconda3/lib/python3.6/site-packages/ipykernel_launcher.py:1: DeprecationWarning: Call to deprecated function get_sheet_names (Use wb.sheetnames).\n",
      "  \"\"\"Entry point for launching an IPython kernel.\n",
      "/home/dan/anaconda3/lib/python3.6/site-packages/ipykernel_launcher.py:2: DeprecationWarning: Call to deprecated function get_sheet_by_name (Use wb[sheetname]).\n",
      "  \n"
     ]
    }
   ],
   "source": [
    "print(wb.get_sheet_names())\n",
    "sheet3 = wb.get_sheet_by_name('Sheet3')\n",
    "print(type(sheet3))\n",
    "print(sheet3.title)\n",
    "\n"
   ]
  },
  {
   "cell_type": "markdown",
   "metadata": {},
   "source": [
    "`.get_active_sheet()`"
   ]
  },
  {
   "cell_type": "code",
   "execution_count": 15,
   "metadata": {},
   "outputs": [
    {
     "name": "stderr",
     "output_type": "stream",
     "text": [
      "/home/dan/anaconda3/lib/python3.6/site-packages/ipykernel_launcher.py:1: DeprecationWarning: Call to deprecated function get_active_sheet (Use the .active property).\n",
      "  \"\"\"Entry point for launching an IPython kernel.\n"
     ]
    },
    {
     "data": {
      "text/plain": [
       "<Worksheet \"Sheet3\">"
      ]
     },
     "execution_count": 15,
     "metadata": {},
     "output_type": "execute_result"
    }
   ],
   "source": [
    "active = wb.get_active_sheet()\n",
    "active"
   ]
  },
  {
   "cell_type": "markdown",
   "metadata": {},
   "source": [
    "<h3> getting cells from sheets </h3>"
   ]
  },
  {
   "cell_type": "code",
   "execution_count": 19,
   "metadata": {},
   "outputs": [
    {
     "name": "stdout",
     "output_type": "stream",
     "text": [
      "<Cell 'Sheet1'.A1>\n"
     ]
    },
    {
     "name": "stderr",
     "output_type": "stream",
     "text": [
      "/home/dan/anaconda3/lib/python3.6/site-packages/ipykernel_launcher.py:4: DeprecationWarning: Call to deprecated function get_sheet_by_name (Use wb[sheetname]).\n",
      "  after removing the cwd from sys.path.\n"
     ]
    }
   ],
   "source": [
    "\n",
    "import openpyxl\n",
    "wb=openpyxl.load_workbook('example.xlsx')\n",
    "sheet = wb.get_sheet_by_name('Sheet1')\n",
    "print(sheet['A1'])\n"
   ]
  },
  {
   "cell_type": "code",
   "execution_count": 20,
   "metadata": {},
   "outputs": [
    {
     "data": {
      "text/plain": [
       "datetime.datetime(2015, 4, 5, 0, 0)"
      ]
     },
     "execution_count": 20,
     "metadata": {},
     "output_type": "execute_result"
    }
   ],
   "source": [
    "sheet['A1'].value"
   ]
  },
  {
   "cell_type": "code",
   "execution_count": 23,
   "metadata": {},
   "outputs": [
    {
     "name": "stdout",
     "output_type": "stream",
     "text": [
      "Apples\n",
      "Row:1 Column:D is Apples\n"
     ]
    }
   ],
   "source": [
    "c = sheet['D1']\n",
    "print(c.value)\n",
    "def describeCell(cell):\n",
    "    print(\"Row:\" + str(cell.row) + \" Column:\"+ str(cell.column)+ ' is ' + str(cell.value))\n",
    "describeCell(c)"
   ]
  },
  {
   "cell_type": "code",
   "execution_count": 25,
   "metadata": {},
   "outputs": [
    {
     "name": "stdout",
     "output_type": "stream",
     "text": [
      "1 Apples\n",
      "3 Pears\n",
      "5 Apples\n",
      "7 Strawberries\n"
     ]
    }
   ],
   "source": [
    "for i in range( 1,8, 2):\n",
    "    print(i , sheet. cell(row =i, column=4). value)"
   ]
  },
  {
   "cell_type": "code",
   "execution_count": 32,
   "metadata": {},
   "outputs": [
    {
     "name": "stdout",
     "output_type": "stream",
     "text": [
      "Apples\n",
      "Cherries\n",
      "Pears\n",
      "Oranges\n",
      "Apples\n",
      "Bananas\n",
      "Strawberries\n",
      "None\n",
      "None\n",
      "None\n"
     ]
    }
   ],
   "source": [
    "for i in range (1,11):\n",
    "    print(sheet.cell(i,4).value)\n",
    "dates=[]\n",
    "for i in range (1,8):\n",
    "    dates.append( str(sheet.cell(i,1).value)+\" \" +str(sheet.cell(i,2).value)+\" \"+str(sheet.cell(i,3).value))\n"
   ]
  },
  {
   "cell_type": "code",
   "execution_count": 33,
   "metadata": {},
   "outputs": [
    {
     "name": "stdout",
     "output_type": "stream",
     "text": [
      "['2015-04-05 00:00:00 01:34:02 PM', '2015-04-05 00:00:00 03:41:23 AM', '2015-04-06 00:00:00 12:46:51 PM', '2015-04-08 00:00:00 08:59:43 AM', '2015-04-10 00:00:00 02:07:00 AM', '2015-04-10 00:00:00 06:10:37 PM', '2015-04-10 00:00:00 02:40:46 AM']\n"
     ]
    }
   ],
   "source": [
    "print(dates)"
   ]
  },
  {
   "cell_type": "code",
   "execution_count": null,
   "metadata": {},
   "outputs": [],
   "source": []
  },
  {
   "cell_type": "markdown",
   "metadata": {},
   "source": [
    "<h4> convert column letters and numbers"
   ]
  },
  {
   "cell_type": "markdown",
   "metadata": {},
   "source": [
    "`openpyxl.utils.column_index_from_string()\n",
    "openpyxl.utils.get_column_letter(1)`"
   ]
  },
  {
   "cell_type": "code",
   "execution_count": 20,
   "metadata": {},
   "outputs": [
    {
     "name": "stdout",
     "output_type": "stream",
     "text": [
      "A\n",
      "AA\n",
      "E\n",
      "1\n",
      "27\n"
     ]
    },
    {
     "name": "stderr",
     "output_type": "stream",
     "text": [
      "/home/dan/anaconda3/lib/python3.6/site-packages/ipykernel_launcher.py:6: DeprecationWarning: Call to deprecated function get_sheet_by_name (Use wb[sheetname]).\n",
      "  \n"
     ]
    }
   ],
   "source": [
    "import openpyxl\n",
    "from openpyxl.utils import get_column_letter, column_index_from_string\n",
    "print(get_column_letter(1))\n",
    "print(get_column_letter(27))\n",
    "wb = openpyxl.load_workbook('example.xlsx')\n",
    "sheet = wb.get_sheet_by_name('Sheet1')   # better: sheet = wb['Sheet1']\n",
    "print(get_column_letter(sheet.max_column))\n",
    "print(column_index_from_string('A'))\n",
    "print(column_index_from_string('AA'))\n",
    "\n"
   ]
  },
  {
   "cell_type": "markdown",
   "metadata": {},
   "source": [
    "<h4> Getting Rows and Columns from the Sheets </h4>"
   ]
  },
  {
   "cell_type": "code",
   "execution_count": 27,
   "metadata": {},
   "outputs": [
    {
     "name": "stdout",
     "output_type": "stream",
     "text": [
      "A1 2015-04-05 00:00:00\n",
      "B1 01:34:02\n",
      "C1 PM\n",
      "---End OF ROW ---\n",
      "A2 2015-04-05 00:00:00\n",
      "B2 03:41:23\n",
      "C2 AM\n",
      "---End OF ROW ---\n",
      "A3 2015-04-06 00:00:00\n",
      "B3 12:46:51\n",
      "C3 PM\n",
      "---End OF ROW ---\n"
     ]
    }
   ],
   "source": [
    "import openpyxl\n",
    "wb = openpyxl.load_workbook('example.xlsx')\n",
    "sheet = wb['Sheet1']\n",
    "tuple(sheet['A1':'C3'])\n",
    "for rowOfCellObjects in sheet['A1':'C3']:\n",
    "    for cellObj in rowOfCellObjects:\n",
    "        print(cellObj.coordinate, cellObj.value)\n",
    "    print('---End OF ROW ---')"
   ]
  },
  {
   "cell_type": "code",
   "execution_count": null,
   "metadata": {},
   "outputs": [],
   "source": []
  },
  {
   "cell_type": "code",
   "execution_count": null,
   "metadata": {},
   "outputs": [],
   "source": []
  },
  {
   "cell_type": "code",
   "execution_count": null,
   "metadata": {},
   "outputs": [],
   "source": []
  },
  {
   "cell_type": "code",
   "execution_count": null,
   "metadata": {},
   "outputs": [],
   "source": []
  },
  {
   "cell_type": "code",
   "execution_count": null,
   "metadata": {},
   "outputs": [],
   "source": []
  },
  {
   "cell_type": "code",
   "execution_count": null,
   "metadata": {},
   "outputs": [],
   "source": []
  },
  {
   "cell_type": "code",
   "execution_count": null,
   "metadata": {},
   "outputs": [],
   "source": []
  },
  {
   "cell_type": "code",
   "execution_count": null,
   "metadata": {},
   "outputs": [],
   "source": []
  }
 ],
 "metadata": {
  "kernelspec": {
   "display_name": "Python 3",
   "language": "python",
   "name": "python3"
  },
  "language_info": {
   "codemirror_mode": {
    "name": "ipython",
    "version": 3
   },
   "file_extension": ".py",
   "mimetype": "text/x-python",
   "name": "python",
   "nbconvert_exporter": "python",
   "pygments_lexer": "ipython3",
   "version": "3.6.5"
  }
 },
 "nbformat": 4,
 "nbformat_minor": 2
}
