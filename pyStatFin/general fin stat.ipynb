{
 "cells": [
  {
   "cell_type": "code",
   "execution_count": null,
   "metadata": {},
   "outputs": [],
   "source": []
  },
  {
   "cell_type": "code",
   "execution_count": 47,
   "metadata": {},
   "outputs": [],
   "source": [
    "import pandas as pd\n",
    "fb = pd.read_csv(\"facebook.csv\")"
   ]
  },
  {
   "cell_type": "code",
   "execution_count": 48,
   "metadata": {},
   "outputs": [
    {
     "name": "stdout",
     "output_type": "stream",
     "text": [
      "las index with -1\n",
      "779\n",
      "shape (780, 7)\n"
     ]
    }
   ],
   "source": [
    "fb.describe()\n",
    "fb.index\n",
    "print(\"las index with -1\")\n",
    "print(fb.index[-1])\n",
    "print(\"shape {:}\".format(fb.shape))"
   ]
  },
  {
   "cell_type": "code",
   "execution_count": 58,
   "metadata": {},
   "outputs": [
    {
     "name": "stdout",
     "output_type": "stream",
     "text": [
      "Index(['Date', 'Open', 'High', 'Low', 'Close', 'Adj Close', 'Volume'], dtype='object')\n",
      "101    2015-05-28\n",
      "102    2015-05-29\n",
      "103    2015-06-01\n",
      "104    2015-06-02\n",
      "105    2015-06-03\n",
      "106    2015-06-04\n",
      "107    2015-06-05\n",
      "108    2015-06-08\n",
      "109    2015-06-09\n",
      "110    2015-06-10\n",
      "Name: Date, dtype: object\n",
      "using .loc to select by row col name\n",
      "22.379999\n",
      "\n",
      "           Date   Open  High        Low      Close  Adj Close   Volume\n",
      "103  2015-06-01  22.27  22.6  22.129999  22.379999  21.905184  9316500\n",
      "           Date   Open  High        Low      Close  Adj Close   Volume\n",
      "103  2015-06-01  22.27  22.6  22.129999  22.379999  21.905184  9316500\n"
     ]
    },
    {
     "data": {
      "text/plain": [
       "True"
      ]
     },
     "execution_count": 58,
     "metadata": {},
     "output_type": "execute_result"
    }
   ],
   "source": [
    "print(fb.columns)\n",
    "print(fb.Date[101:111])\n",
    "print(\"using .loc to select by row col name\")\n",
    "print(fb.loc[103, 'Close'])\n",
    "print()\n",
    "print(fb.loc[fb['Date']=='2015-06-01'])\n",
    "print(fb.loc[fb['Date']=='2015-06-01']  )\n",
    "(fb['Date']=='2015-06-01')[103]\n"
   ]
  },
  {
   "cell_type": "code",
   "execution_count": 50,
   "metadata": {},
   "outputs": [
    {
     "ename": "SyntaxError",
     "evalue": "invalid syntax (<ipython-input-50-e59f83003f18>, line 3)",
     "output_type": "error",
     "traceback": [
      "\u001b[0;36m  File \u001b[0;32m\"<ipython-input-50-e59f83003f18>\"\u001b[0;36m, line \u001b[0;32m3\u001b[0m\n\u001b[0;31m    i=(fb['Date']='2015-10-10').index\u001b[0m\n\u001b[0m                 ^\u001b[0m\n\u001b[0;31mSyntaxError\u001b[0m\u001b[0;31m:\u001b[0m invalid syntax\n"
     ]
    }
   ],
   "source": [
    "import numpy as np\n",
    "testnp=np.array([11,22,33,44])\n",
    "i=(fb['Date']='2015-10-10').index\n",
    "i"
   ]
  },
  {
   "cell_type": "code",
   "execution_count": null,
   "metadata": {},
   "outputs": [],
   "source": []
  },
  {
   "cell_type": "code",
   "execution_count": null,
   "metadata": {},
   "outputs": [],
   "source": []
  },
  {
   "cell_type": "code",
   "execution_count": null,
   "metadata": {},
   "outputs": [],
   "source": []
  },
  {
   "cell_type": "code",
   "execution_count": null,
   "metadata": {},
   "outputs": [],
   "source": []
  },
  {
   "cell_type": "code",
   "execution_count": null,
   "metadata": {},
   "outputs": [],
   "source": []
  },
  {
   "cell_type": "code",
   "execution_count": null,
   "metadata": {},
   "outputs": [],
   "source": []
  },
  {
   "cell_type": "code",
   "execution_count": null,
   "metadata": {},
   "outputs": [],
   "source": []
  },
  {
   "cell_type": "code",
   "execution_count": null,
   "metadata": {},
   "outputs": [],
   "source": []
  },
  {
   "cell_type": "code",
   "execution_count": null,
   "metadata": {},
   "outputs": [],
   "source": []
  }
 ],
 "metadata": {
  "kernelspec": {
   "display_name": "Python 3",
   "language": "python",
   "name": "python3"
  },
  "language_info": {
   "codemirror_mode": {
    "name": "ipython",
    "version": 3
   },
   "file_extension": ".py",
   "mimetype": "text/x-python",
   "name": "python",
   "nbconvert_exporter": "python",
   "pygments_lexer": "ipython3",
   "version": "3.6.5"
  }
 },
 "nbformat": 4,
 "nbformat_minor": 2
}
